{
  "cells": [
    {
      "cell_type": "code",
      "execution_count": 1,
      "metadata": {
        "colab": {
          "base_uri": "https://localhost:8080/"
        },
        "id": "rcdXfDkW-hEz",
        "outputId": "c4fbc855-5cd2-402f-b2f1-243e0726784c"
      },
      "outputs": [
        {
          "name": "stdout",
          "output_type": "stream",
          "text": [
            "Mounted at /content/drive\n"
          ]
        }
      ],
      "source": [
        "from google.colab import drive\n",
        "drive.mount('/content/drive')"
      ]
    },
    {
      "cell_type": "code",
      "execution_count": 1,
      "metadata": {
        "id": "do9K9xIZD4O9"
      },
      "outputs": [],
      "source": [
        "import numpy as np\n",
        "import pandas as pd\n",
        "import torch\n",
        "import torch.nn as nn\n",
        "import torch.optim as optim\n",
        "from collections import deque\n",
        "import matplotlib.pyplot as plt\n",
        "import random\n",
        "import gym\n",
        "from gym import spaces\n",
        "\n",
        "from sklearn.preprocessing import LabelEncoder"
      ]
    },
    {
      "cell_type": "code",
      "execution_count": 3,
      "metadata": {
        "colab": {
          "base_uri": "https://localhost:8080/",
          "height": 93
        },
        "id": "P5wE8a0SD4Mi",
        "outputId": "6fd48248-e4a9-4b2d-9b38-89d5f79817eb"
      },
      "outputs": [
        {
          "data": {
            "text/plain": [
              "'EUC-KR'"
            ]
          },
          "execution_count": 3,
          "metadata": {},
          "output_type": "execute_result"
        }
      ],
      "source": [
        "import chardet\n",
        "# 파일의 인코딩 감지\n",
        "with open('./foodData.csv', 'rb') as f:\n",
        "    result = chardet.detect(f.read())\n",
        "encoding = result['encoding']\n",
        "encoding"
      ]
    },
    {
      "cell_type": "code",
      "execution_count": 4,
      "metadata": {
        "colab": {
          "base_uri": "https://localhost:8080/",
          "height": 632
        },
        "id": "6x3RB68tD4KK",
        "outputId": "a94e8a6e-303c-438b-bc0a-f3a6c693b537"
      },
      "outputs": [
        {
          "data": {
            "text/html": [
              "<div>\n",
              "<style scoped>\n",
              "    .dataframe tbody tr th:only-of-type {\n",
              "        vertical-align: middle;\n",
              "    }\n",
              "\n",
              "    .dataframe tbody tr th {\n",
              "        vertical-align: top;\n",
              "    }\n",
              "\n",
              "    .dataframe thead th {\n",
              "        text-align: right;\n",
              "    }\n",
              "</style>\n",
              "<table border=\"1\" class=\"dataframe\">\n",
              "  <thead>\n",
              "    <tr style=\"text-align: right;\">\n",
              "      <th></th>\n",
              "      <th>응답일시</th>\n",
              "      <th>참여자</th>\n",
              "      <th>오늘 기분을 골라주세요. 1점 최악, 10점 최고(*)</th>\n",
              "      <th>현재의 날씨를 골라주세요.(*)</th>\n",
              "      <th>자신이 느끼는 현재의 온도를 골라주세요. 1점 추움, 10점 더움(*)</th>\n",
              "      <th>시간과 관계없이 현재 자신이 느끼는 식사 시간대를 선택해주세요.(*)</th>\n",
              "      <th>함께 밥을 먹을 인원수를 입력해주세요.(*)</th>\n",
              "      <th>성별을 골라주세요.(*)</th>\n",
              "      <th>나이대를 입력해주세요. (19살 -&gt; 1, 20살 -&gt; 2)(*)</th>\n",
              "      <th>현재의 날씨, 기분, 온도 그리고 인원수를 포함하여 먹고싶거나 먹기로 한 메뉴를 입력해주세요. (띄어쓰기X)(*)</th>\n",
              "      <th>기프티콘 지급을 위한 연락처를 입력해주세요. (필수 X)</th>\n",
              "    </tr>\n",
              "  </thead>\n",
              "  <tbody>\n",
              "    <tr>\n",
              "      <th>0</th>\n",
              "      <td>2024-05-21 15:38:15</td>\n",
              "      <td>1</td>\n",
              "      <td>4</td>\n",
              "      <td>맑음</td>\n",
              "      <td>10</td>\n",
              "      <td>저녁(석식)</td>\n",
              "      <td>2명</td>\n",
              "      <td>남자</td>\n",
              "      <td>2</td>\n",
              "      <td>제육볶음</td>\n",
              "      <td>1.040628e+09</td>\n",
              "    </tr>\n",
              "    <tr>\n",
              "      <th>1</th>\n",
              "      <td>2024-05-21 15:38:51</td>\n",
              "      <td>2</td>\n",
              "      <td>8</td>\n",
              "      <td>맑음</td>\n",
              "      <td>10</td>\n",
              "      <td>점심(중식)</td>\n",
              "      <td>4명</td>\n",
              "      <td>여자</td>\n",
              "      <td>2</td>\n",
              "      <td>마라탕</td>\n",
              "      <td>1.032130e+09</td>\n",
              "    </tr>\n",
              "    <tr>\n",
              "      <th>2</th>\n",
              "      <td>2024-05-21 15:41:52</td>\n",
              "      <td>3</td>\n",
              "      <td>6</td>\n",
              "      <td>맑음</td>\n",
              "      <td>5</td>\n",
              "      <td>점심(중식)</td>\n",
              "      <td>1명</td>\n",
              "      <td>여자</td>\n",
              "      <td>2</td>\n",
              "      <td>떡볶이</td>\n",
              "      <td>1.075212e+09</td>\n",
              "    </tr>\n",
              "    <tr>\n",
              "      <th>3</th>\n",
              "      <td>2024-05-21 15:42:51</td>\n",
              "      <td>4</td>\n",
              "      <td>3</td>\n",
              "      <td>맑음</td>\n",
              "      <td>3</td>\n",
              "      <td>저녁(석식)</td>\n",
              "      <td>2명</td>\n",
              "      <td>여자</td>\n",
              "      <td>2</td>\n",
              "      <td>닭볶음탕</td>\n",
              "      <td>1.050636e+09</td>\n",
              "    </tr>\n",
              "    <tr>\n",
              "      <th>4</th>\n",
              "      <td>2024-05-21 15:44:22</td>\n",
              "      <td>5</td>\n",
              "      <td>10</td>\n",
              "      <td>맑음</td>\n",
              "      <td>5</td>\n",
              "      <td>점심(중식)</td>\n",
              "      <td>4명</td>\n",
              "      <td>여자</td>\n",
              "      <td>5</td>\n",
              "      <td>스파게티</td>\n",
              "      <td>1.035316e+09</td>\n",
              "    </tr>\n",
              "    <tr>\n",
              "      <th>...</th>\n",
              "      <td>...</td>\n",
              "      <td>...</td>\n",
              "      <td>...</td>\n",
              "      <td>...</td>\n",
              "      <td>...</td>\n",
              "      <td>...</td>\n",
              "      <td>...</td>\n",
              "      <td>...</td>\n",
              "      <td>...</td>\n",
              "      <td>...</td>\n",
              "      <td>...</td>\n",
              "    </tr>\n",
              "    <tr>\n",
              "      <th>238</th>\n",
              "      <td>2024-06-04 23:16:24</td>\n",
              "      <td>208</td>\n",
              "      <td>8</td>\n",
              "      <td>맑음</td>\n",
              "      <td>3</td>\n",
              "      <td>저녁(석식)</td>\n",
              "      <td>3명</td>\n",
              "      <td>여자</td>\n",
              "      <td>2</td>\n",
              "      <td>족발</td>\n",
              "      <td>1.043776e+09</td>\n",
              "    </tr>\n",
              "    <tr>\n",
              "      <th>239</th>\n",
              "      <td>2024-06-04 23:27:23</td>\n",
              "      <td>209</td>\n",
              "      <td>6</td>\n",
              "      <td>맑음</td>\n",
              "      <td>7</td>\n",
              "      <td>점심(중식)</td>\n",
              "      <td>1명</td>\n",
              "      <td>여자</td>\n",
              "      <td>2</td>\n",
              "      <td>치킨</td>\n",
              "      <td>1.043776e+09</td>\n",
              "    </tr>\n",
              "    <tr>\n",
              "      <th>240</th>\n",
              "      <td>2024-06-04 23:27:50</td>\n",
              "      <td>210</td>\n",
              "      <td>6</td>\n",
              "      <td>맑음</td>\n",
              "      <td>5</td>\n",
              "      <td>저녁(석식)</td>\n",
              "      <td>1명</td>\n",
              "      <td>여자</td>\n",
              "      <td>2</td>\n",
              "      <td>김치볶음밥</td>\n",
              "      <td>1.043776e+09</td>\n",
              "    </tr>\n",
              "    <tr>\n",
              "      <th>241</th>\n",
              "      <td>2024-06-05 02:42:20</td>\n",
              "      <td>211</td>\n",
              "      <td>2</td>\n",
              "      <td>맑음</td>\n",
              "      <td>4</td>\n",
              "      <td>야식</td>\n",
              "      <td>5명 이상</td>\n",
              "      <td>남자</td>\n",
              "      <td>2</td>\n",
              "      <td>라면</td>\n",
              "      <td>1.055484e+09</td>\n",
              "    </tr>\n",
              "    <tr>\n",
              "      <th>242</th>\n",
              "      <td>2024-06-05 09:28:57</td>\n",
              "      <td>212</td>\n",
              "      <td>1</td>\n",
              "      <td>맑음</td>\n",
              "      <td>8</td>\n",
              "      <td>아침(조식)</td>\n",
              "      <td>1명</td>\n",
              "      <td>여자</td>\n",
              "      <td>2</td>\n",
              "      <td>삼각김밥</td>\n",
              "      <td>1.043776e+09</td>\n",
              "    </tr>\n",
              "  </tbody>\n",
              "</table>\n",
              "<p>243 rows × 11 columns</p>\n",
              "</div>"
            ],
            "text/plain": [
              "                    응답일시  참여자  오늘 기분을 골라주세요. 1점 최악, 10점 최고(*)  \\\n",
              "0    2024-05-21 15:38:15    1                               4   \n",
              "1    2024-05-21 15:38:51    2                               8   \n",
              "2    2024-05-21 15:41:52    3                               6   \n",
              "3    2024-05-21 15:42:51    4                               3   \n",
              "4    2024-05-21 15:44:22    5                              10   \n",
              "..                   ...  ...                             ...   \n",
              "238  2024-06-04 23:16:24  208                               8   \n",
              "239  2024-06-04 23:27:23  209                               6   \n",
              "240  2024-06-04 23:27:50  210                               6   \n",
              "241  2024-06-05 02:42:20  211                               2   \n",
              "242  2024-06-05 09:28:57  212                               1   \n",
              "\n",
              "    현재의 날씨를 골라주세요.(*)  자신이 느끼는 현재의 온도를 골라주세요. 1점 추움, 10점 더움(*)  \\\n",
              "0                  맑음                                       10   \n",
              "1                  맑음                                       10   \n",
              "2                  맑음                                        5   \n",
              "3                  맑음                                        3   \n",
              "4                  맑음                                        5   \n",
              "..                ...                                      ...   \n",
              "238                맑음                                        3   \n",
              "239                맑음                                        7   \n",
              "240                맑음                                        5   \n",
              "241                맑음                                        4   \n",
              "242                맑음                                        8   \n",
              "\n",
              "    시간과 관계없이 현재 자신이 느끼는 식사 시간대를 선택해주세요.(*) 함께 밥을 먹을 인원수를 입력해주세요.(*)  \\\n",
              "0                                   저녁(석식)                       2명   \n",
              "1                                   점심(중식)                       4명   \n",
              "2                                   점심(중식)                       1명   \n",
              "3                                   저녁(석식)                       2명   \n",
              "4                                   점심(중식)                       4명   \n",
              "..                                     ...                      ...   \n",
              "238                                 저녁(석식)                       3명   \n",
              "239                                 점심(중식)                       1명   \n",
              "240                                 저녁(석식)                       1명   \n",
              "241                                     야식                    5명 이상   \n",
              "242                                 아침(조식)                       1명   \n",
              "\n",
              "    성별을 골라주세요.(*)  나이대를 입력해주세요. (19살 -> 1, 20살 -> 2)(*)  \\\n",
              "0              남자                                     2   \n",
              "1              여자                                     2   \n",
              "2              여자                                     2   \n",
              "3              여자                                     2   \n",
              "4              여자                                     5   \n",
              "..            ...                                   ...   \n",
              "238            여자                                     2   \n",
              "239            여자                                     2   \n",
              "240            여자                                     2   \n",
              "241            남자                                     2   \n",
              "242            여자                                     2   \n",
              "\n",
              "    현재의 날씨, 기분, 온도 그리고 인원수를 포함하여 먹고싶거나 먹기로 한 메뉴를 입력해주세요. (띄어쓰기X)(*)  \\\n",
              "0                                                 제육볶음                \n",
              "1                                                  마라탕                \n",
              "2                                                  떡볶이                \n",
              "3                                                 닭볶음탕                \n",
              "4                                                 스파게티                \n",
              "..                                                 ...                \n",
              "238                                                 족발                \n",
              "239                                                 치킨                \n",
              "240                                              김치볶음밥                \n",
              "241                                                 라면                \n",
              "242                                               삼각김밥                \n",
              "\n",
              "     기프티콘 지급을 위한 연락처를 입력해주세요. (필수 X)  \n",
              "0                       1.040628e+09  \n",
              "1                       1.032130e+09  \n",
              "2                       1.075212e+09  \n",
              "3                       1.050636e+09  \n",
              "4                       1.035316e+09  \n",
              "..                               ...  \n",
              "238                     1.043776e+09  \n",
              "239                     1.043776e+09  \n",
              "240                     1.043776e+09  \n",
              "241                     1.055484e+09  \n",
              "242                     1.043776e+09  \n",
              "\n",
              "[243 rows x 11 columns]"
            ]
          },
          "execution_count": 4,
          "metadata": {},
          "output_type": "execute_result"
        }
      ],
      "source": [
        "data = pd.read_csv(\"./foodData.csv\", encoding='EUC-KR')\n",
        "data"
      ]
    },
    {
      "cell_type": "code",
      "execution_count": 5,
      "metadata": {
        "colab": {
          "base_uri": "https://localhost:8080/"
        },
        "id": "HTGbjNlHD4Hl",
        "outputId": "9e632565-8546-49c8-c262-3c15b925e23c"
      },
      "outputs": [
        {
          "data": {
            "text/plain": [
              "Index(['응답일시', '참여자', '오늘 기분을 골라주세요. 1점 최악, 10점 최고(*)', '현재의 날씨를 골라주세요.(*)',\n",
              "       '자신이 느끼는 현재의 온도를 골라주세요. 1점 추움, 10점 더움(*)',\n",
              "       '시간과 관계없이 현재 자신이 느끼는 식사 시간대를 선택해주세요.(*)', '함께 밥을 먹을 인원수를 입력해주세요.(*)',\n",
              "       '성별을 골라주세요.(*)', '나이대를 입력해주세요. (19살 -> 1, 20살 -> 2)(*)',\n",
              "       '현재의 날씨, 기분, 온도 그리고 인원수를 포함하여 먹고싶거나 먹기로 한 메뉴를 입력해주세요. (띄어쓰기X)(*)',\n",
              "       '기프티콘 지급을 위한 연락처를 입력해주세요. (필수 X)'],\n",
              "      dtype='object')"
            ]
          },
          "execution_count": 5,
          "metadata": {},
          "output_type": "execute_result"
        }
      ],
      "source": [
        "data.columns"
      ]
    },
    {
      "cell_type": "code",
      "execution_count": 6,
      "metadata": {
        "colab": {
          "base_uri": "https://localhost:8080/",
          "height": 441
        },
        "id": "HTK6X2nsD4E-",
        "outputId": "911e797a-1fa0-4a04-d716-5f5f3f7a8197"
      },
      "outputs": [
        {
          "data": {
            "text/html": [
              "<div>\n",
              "<style scoped>\n",
              "    .dataframe tbody tr th:only-of-type {\n",
              "        vertical-align: middle;\n",
              "    }\n",
              "\n",
              "    .dataframe tbody tr th {\n",
              "        vertical-align: top;\n",
              "    }\n",
              "\n",
              "    .dataframe thead th {\n",
              "        text-align: right;\n",
              "    }\n",
              "</style>\n",
              "<table border=\"1\" class=\"dataframe\">\n",
              "  <thead>\n",
              "    <tr style=\"text-align: right;\">\n",
              "      <th></th>\n",
              "      <th>오늘 기분을 골라주세요. 1점 최악, 10점 최고(*)</th>\n",
              "      <th>현재의 날씨를 골라주세요.(*)</th>\n",
              "      <th>자신이 느끼는 현재의 온도를 골라주세요. 1점 추움, 10점 더움(*)</th>\n",
              "      <th>시간과 관계없이 현재 자신이 느끼는 식사 시간대를 선택해주세요.(*)</th>\n",
              "      <th>함께 밥을 먹을 인원수를 입력해주세요.(*)</th>\n",
              "      <th>성별을 골라주세요.(*)</th>\n",
              "      <th>현재의 날씨, 기분, 온도 그리고 인원수를 포함하여 먹고싶거나 먹기로 한 메뉴를 입력해주세요. (띄어쓰기X)(*)</th>\n",
              "    </tr>\n",
              "  </thead>\n",
              "  <tbody>\n",
              "    <tr>\n",
              "      <th>0</th>\n",
              "      <td>4</td>\n",
              "      <td>맑음</td>\n",
              "      <td>10</td>\n",
              "      <td>저녁(석식)</td>\n",
              "      <td>2명</td>\n",
              "      <td>남자</td>\n",
              "      <td>제육볶음</td>\n",
              "    </tr>\n",
              "    <tr>\n",
              "      <th>1</th>\n",
              "      <td>8</td>\n",
              "      <td>맑음</td>\n",
              "      <td>10</td>\n",
              "      <td>점심(중식)</td>\n",
              "      <td>4명</td>\n",
              "      <td>여자</td>\n",
              "      <td>마라탕</td>\n",
              "    </tr>\n",
              "    <tr>\n",
              "      <th>2</th>\n",
              "      <td>6</td>\n",
              "      <td>맑음</td>\n",
              "      <td>5</td>\n",
              "      <td>점심(중식)</td>\n",
              "      <td>1명</td>\n",
              "      <td>여자</td>\n",
              "      <td>떡볶이</td>\n",
              "    </tr>\n",
              "    <tr>\n",
              "      <th>3</th>\n",
              "      <td>3</td>\n",
              "      <td>맑음</td>\n",
              "      <td>3</td>\n",
              "      <td>저녁(석식)</td>\n",
              "      <td>2명</td>\n",
              "      <td>여자</td>\n",
              "      <td>닭볶음탕</td>\n",
              "    </tr>\n",
              "    <tr>\n",
              "      <th>4</th>\n",
              "      <td>10</td>\n",
              "      <td>맑음</td>\n",
              "      <td>5</td>\n",
              "      <td>점심(중식)</td>\n",
              "      <td>4명</td>\n",
              "      <td>여자</td>\n",
              "      <td>스파게티</td>\n",
              "    </tr>\n",
              "    <tr>\n",
              "      <th>...</th>\n",
              "      <td>...</td>\n",
              "      <td>...</td>\n",
              "      <td>...</td>\n",
              "      <td>...</td>\n",
              "      <td>...</td>\n",
              "      <td>...</td>\n",
              "      <td>...</td>\n",
              "    </tr>\n",
              "    <tr>\n",
              "      <th>238</th>\n",
              "      <td>8</td>\n",
              "      <td>맑음</td>\n",
              "      <td>3</td>\n",
              "      <td>저녁(석식)</td>\n",
              "      <td>3명</td>\n",
              "      <td>여자</td>\n",
              "      <td>족발</td>\n",
              "    </tr>\n",
              "    <tr>\n",
              "      <th>239</th>\n",
              "      <td>6</td>\n",
              "      <td>맑음</td>\n",
              "      <td>7</td>\n",
              "      <td>점심(중식)</td>\n",
              "      <td>1명</td>\n",
              "      <td>여자</td>\n",
              "      <td>치킨</td>\n",
              "    </tr>\n",
              "    <tr>\n",
              "      <th>240</th>\n",
              "      <td>6</td>\n",
              "      <td>맑음</td>\n",
              "      <td>5</td>\n",
              "      <td>저녁(석식)</td>\n",
              "      <td>1명</td>\n",
              "      <td>여자</td>\n",
              "      <td>김치볶음밥</td>\n",
              "    </tr>\n",
              "    <tr>\n",
              "      <th>241</th>\n",
              "      <td>2</td>\n",
              "      <td>맑음</td>\n",
              "      <td>4</td>\n",
              "      <td>야식</td>\n",
              "      <td>5명 이상</td>\n",
              "      <td>남자</td>\n",
              "      <td>라면</td>\n",
              "    </tr>\n",
              "    <tr>\n",
              "      <th>242</th>\n",
              "      <td>1</td>\n",
              "      <td>맑음</td>\n",
              "      <td>8</td>\n",
              "      <td>아침(조식)</td>\n",
              "      <td>1명</td>\n",
              "      <td>여자</td>\n",
              "      <td>삼각김밥</td>\n",
              "    </tr>\n",
              "  </tbody>\n",
              "</table>\n",
              "<p>243 rows × 7 columns</p>\n",
              "</div>"
            ],
            "text/plain": [
              "     오늘 기분을 골라주세요. 1점 최악, 10점 최고(*) 현재의 날씨를 골라주세요.(*)  \\\n",
              "0                                 4                맑음   \n",
              "1                                 8                맑음   \n",
              "2                                 6                맑음   \n",
              "3                                 3                맑음   \n",
              "4                                10                맑음   \n",
              "..                              ...               ...   \n",
              "238                               8                맑음   \n",
              "239                               6                맑음   \n",
              "240                               6                맑음   \n",
              "241                               2                맑음   \n",
              "242                               1                맑음   \n",
              "\n",
              "     자신이 느끼는 현재의 온도를 골라주세요. 1점 추움, 10점 더움(*)  \\\n",
              "0                                         10   \n",
              "1                                         10   \n",
              "2                                          5   \n",
              "3                                          3   \n",
              "4                                          5   \n",
              "..                                       ...   \n",
              "238                                        3   \n",
              "239                                        7   \n",
              "240                                        5   \n",
              "241                                        4   \n",
              "242                                        8   \n",
              "\n",
              "    시간과 관계없이 현재 자신이 느끼는 식사 시간대를 선택해주세요.(*) 함께 밥을 먹을 인원수를 입력해주세요.(*)  \\\n",
              "0                                   저녁(석식)                       2명   \n",
              "1                                   점심(중식)                       4명   \n",
              "2                                   점심(중식)                       1명   \n",
              "3                                   저녁(석식)                       2명   \n",
              "4                                   점심(중식)                       4명   \n",
              "..                                     ...                      ...   \n",
              "238                                 저녁(석식)                       3명   \n",
              "239                                 점심(중식)                       1명   \n",
              "240                                 저녁(석식)                       1명   \n",
              "241                                     야식                    5명 이상   \n",
              "242                                 아침(조식)                       1명   \n",
              "\n",
              "    성별을 골라주세요.(*)  \\\n",
              "0              남자   \n",
              "1              여자   \n",
              "2              여자   \n",
              "3              여자   \n",
              "4              여자   \n",
              "..            ...   \n",
              "238            여자   \n",
              "239            여자   \n",
              "240            여자   \n",
              "241            남자   \n",
              "242            여자   \n",
              "\n",
              "    현재의 날씨, 기분, 온도 그리고 인원수를 포함하여 먹고싶거나 먹기로 한 메뉴를 입력해주세요. (띄어쓰기X)(*)  \n",
              "0                                                 제육볶음               \n",
              "1                                                  마라탕               \n",
              "2                                                  떡볶이               \n",
              "3                                                 닭볶음탕               \n",
              "4                                                 스파게티               \n",
              "..                                                 ...               \n",
              "238                                                 족발               \n",
              "239                                                 치킨               \n",
              "240                                              김치볶음밥               \n",
              "241                                                 라면               \n",
              "242                                               삼각김밥               \n",
              "\n",
              "[243 rows x 7 columns]"
            ]
          },
          "execution_count": 6,
          "metadata": {},
          "output_type": "execute_result"
        }
      ],
      "source": [
        "del data['응답일시']\n",
        "del data['참여자']\n",
        "del data['나이대를 입력해주세요. (19살 -> 1, 20살 -> 2)(*)']\n",
        "del data['기프티콘 지급을 위한 연락처를 입력해주세요. (필수 X)']\n",
        "data"
      ]
    },
    {
      "cell_type": "code",
      "execution_count": 7,
      "metadata": {
        "colab": {
          "base_uri": "https://localhost:8080/"
        },
        "id": "RynvegmTD4CR",
        "outputId": "ab45edb6-3a91-4e8f-f66f-4a3fb5863612"
      },
      "outputs": [
        {
          "data": {
            "text/plain": [
              "array(['제육볶음', '마라탕', '떡볶이', '닭볶음탕', '스파게티', '항정살덮밥', '족발', '돈가스', '삼겹살',\n",
              "       '파스타', '하와이안피자', '크림파스타', '피자', '김치찌개', '불고기피자', '회', '덮밥', '타코야끼',\n",
              "       '닭강정', '야끼소바', '초밥', '짜장면', '고구마피자', '제육덮밥', '치킨', '자장면', '소곱창',\n",
              "       '바나나 한개', '밥버거', '냉면', '고기', '낙곱새', '고등어회', '봉구스밥버거', '닭발', '닭갈비',\n",
              "       '페퍼로니피자', '김치전', '1명 닭꼬치', '순두부찌개', '청국장', '돼지고기김치찜', '닭우동', '사케동',\n",
              "       '무뼈닭발', '간장치킨', '요거트아이스크림', '분짜', '샌드위치', '소고기무국', '돼지갈비', '짜파게티',\n",
              "       '곱창', '양꼬치', '라면', '열무국수', '닭꼬치', '양송이수프', '소고기덮밥', '해장국', '순대국밥',\n",
              "       '선지해장국', '소바', '부대찌개', '스테이크', '새우초밥', '비빔국수', '불닭게티', '된장찌개',\n",
              "       '고구마치즈돈가스', '투움바파스타', '양념치킨', '대창', '솥밥', '연어회', '파전', '육회', '칼국수',\n",
              "       '전', '로제마라샹궈', '두부김치', '강된장보리밥', '백반', '바게트', '막국수', '포케',\n",
              "       '치킨, 고기, 막걸리, 파전, 샐러드', '연어초밥', '연어덮밥', '멘보샤', '콩나물국밥육개장', '추어탕',\n",
              "       '허니콤보', '설렁탕', '쌀국수', '국밥', '로제떡볶이', '마라떡볶이', '돼지국밥', '화채', '갈비탕',\n",
              "       '씨리얼', '불고기백반', '회덮밥', '치즈돈까스', '쫄면', '햄버거', '마제소바', '쭈꾸미볶음',\n",
              "       '닭똥집튀김', '냉소바', '순대국', '직화고기', '유부초밥', '김치볶음밥', '삼각김밥'],\n",
              "      dtype=object)"
            ]
          },
          "execution_count": 7,
          "metadata": {},
          "output_type": "execute_result"
        }
      ],
      "source": [
        "menu_list = data['현재의 날씨, 기분, 온도 그리고 인원수를 포함하여 먹고싶거나 먹기로 한 메뉴를 입력해주세요. (띄어쓰기X)(*)'].unique()\n",
        "menu_list"
      ]
    },
    {
      "cell_type": "code",
      "execution_count": 8,
      "metadata": {
        "colab": {
          "base_uri": "https://localhost:8080/"
        },
        "id": "P6IE4N3iD3_w",
        "outputId": "f37d4167-4d2d-4038-a896-76fe69d077cd"
      },
      "outputs": [
        {
          "data": {
            "text/plain": [
              "Index(['feeling', 'weather', 'temp', 'time', 'num_people', 'gender', 'menu'], dtype='object')"
            ]
          },
          "execution_count": 8,
          "metadata": {},
          "output_type": "execute_result"
        }
      ],
      "source": [
        "data.columns = ['feeling','weather','temp','time','num_people','gender','menu']\n",
        "data.columns"
      ]
    },
    {
      "cell_type": "code",
      "execution_count": 9,
      "metadata": {
        "colab": {
          "base_uri": "https://localhost:8080/",
          "height": 424
        },
        "id": "NsphZLnhEs5z",
        "outputId": "c3da7fb8-6982-448f-b20f-82b53b97bdd5"
      },
      "outputs": [
        {
          "data": {
            "text/html": [
              "<div>\n",
              "<style scoped>\n",
              "    .dataframe tbody tr th:only-of-type {\n",
              "        vertical-align: middle;\n",
              "    }\n",
              "\n",
              "    .dataframe tbody tr th {\n",
              "        vertical-align: top;\n",
              "    }\n",
              "\n",
              "    .dataframe thead th {\n",
              "        text-align: right;\n",
              "    }\n",
              "</style>\n",
              "<table border=\"1\" class=\"dataframe\">\n",
              "  <thead>\n",
              "    <tr style=\"text-align: right;\">\n",
              "      <th></th>\n",
              "      <th>feeling</th>\n",
              "      <th>weather</th>\n",
              "      <th>temp</th>\n",
              "      <th>time</th>\n",
              "      <th>num_people</th>\n",
              "      <th>gender</th>\n",
              "      <th>menu</th>\n",
              "    </tr>\n",
              "  </thead>\n",
              "  <tbody>\n",
              "    <tr>\n",
              "      <th>0</th>\n",
              "      <td>4</td>\n",
              "      <td>맑음</td>\n",
              "      <td>10</td>\n",
              "      <td>저녁(석식)</td>\n",
              "      <td>2명</td>\n",
              "      <td>남자</td>\n",
              "      <td>제육볶음</td>\n",
              "    </tr>\n",
              "    <tr>\n",
              "      <th>1</th>\n",
              "      <td>8</td>\n",
              "      <td>맑음</td>\n",
              "      <td>10</td>\n",
              "      <td>점심(중식)</td>\n",
              "      <td>4명</td>\n",
              "      <td>여자</td>\n",
              "      <td>마라탕</td>\n",
              "    </tr>\n",
              "    <tr>\n",
              "      <th>2</th>\n",
              "      <td>6</td>\n",
              "      <td>맑음</td>\n",
              "      <td>5</td>\n",
              "      <td>점심(중식)</td>\n",
              "      <td>1명</td>\n",
              "      <td>여자</td>\n",
              "      <td>떡볶이</td>\n",
              "    </tr>\n",
              "    <tr>\n",
              "      <th>3</th>\n",
              "      <td>3</td>\n",
              "      <td>맑음</td>\n",
              "      <td>3</td>\n",
              "      <td>저녁(석식)</td>\n",
              "      <td>2명</td>\n",
              "      <td>여자</td>\n",
              "      <td>닭볶음탕</td>\n",
              "    </tr>\n",
              "    <tr>\n",
              "      <th>4</th>\n",
              "      <td>10</td>\n",
              "      <td>맑음</td>\n",
              "      <td>5</td>\n",
              "      <td>점심(중식)</td>\n",
              "      <td>4명</td>\n",
              "      <td>여자</td>\n",
              "      <td>스파게티</td>\n",
              "    </tr>\n",
              "    <tr>\n",
              "      <th>...</th>\n",
              "      <td>...</td>\n",
              "      <td>...</td>\n",
              "      <td>...</td>\n",
              "      <td>...</td>\n",
              "      <td>...</td>\n",
              "      <td>...</td>\n",
              "      <td>...</td>\n",
              "    </tr>\n",
              "    <tr>\n",
              "      <th>238</th>\n",
              "      <td>8</td>\n",
              "      <td>맑음</td>\n",
              "      <td>3</td>\n",
              "      <td>저녁(석식)</td>\n",
              "      <td>3명</td>\n",
              "      <td>여자</td>\n",
              "      <td>족발</td>\n",
              "    </tr>\n",
              "    <tr>\n",
              "      <th>239</th>\n",
              "      <td>6</td>\n",
              "      <td>맑음</td>\n",
              "      <td>7</td>\n",
              "      <td>점심(중식)</td>\n",
              "      <td>1명</td>\n",
              "      <td>여자</td>\n",
              "      <td>치킨</td>\n",
              "    </tr>\n",
              "    <tr>\n",
              "      <th>240</th>\n",
              "      <td>6</td>\n",
              "      <td>맑음</td>\n",
              "      <td>5</td>\n",
              "      <td>저녁(석식)</td>\n",
              "      <td>1명</td>\n",
              "      <td>여자</td>\n",
              "      <td>김치볶음밥</td>\n",
              "    </tr>\n",
              "    <tr>\n",
              "      <th>241</th>\n",
              "      <td>2</td>\n",
              "      <td>맑음</td>\n",
              "      <td>4</td>\n",
              "      <td>야식</td>\n",
              "      <td>5명 이상</td>\n",
              "      <td>남자</td>\n",
              "      <td>라면</td>\n",
              "    </tr>\n",
              "    <tr>\n",
              "      <th>242</th>\n",
              "      <td>1</td>\n",
              "      <td>맑음</td>\n",
              "      <td>8</td>\n",
              "      <td>아침(조식)</td>\n",
              "      <td>1명</td>\n",
              "      <td>여자</td>\n",
              "      <td>삼각김밥</td>\n",
              "    </tr>\n",
              "  </tbody>\n",
              "</table>\n",
              "<p>243 rows × 7 columns</p>\n",
              "</div>"
            ],
            "text/plain": [
              "     feeling weather  temp    time num_people gender   menu\n",
              "0          4      맑음    10  저녁(석식)         2명     남자   제육볶음\n",
              "1          8      맑음    10  점심(중식)         4명     여자    마라탕\n",
              "2          6      맑음     5  점심(중식)         1명     여자    떡볶이\n",
              "3          3      맑음     3  저녁(석식)         2명     여자   닭볶음탕\n",
              "4         10      맑음     5  점심(중식)         4명     여자   스파게티\n",
              "..       ...     ...   ...     ...        ...    ...    ...\n",
              "238        8      맑음     3  저녁(석식)         3명     여자     족발\n",
              "239        6      맑음     7  점심(중식)         1명     여자     치킨\n",
              "240        6      맑음     5  저녁(석식)         1명     여자  김치볶음밥\n",
              "241        2      맑음     4      야식      5명 이상     남자     라면\n",
              "242        1      맑음     8  아침(조식)         1명     여자   삼각김밥\n",
              "\n",
              "[243 rows x 7 columns]"
            ]
          },
          "execution_count": 9,
          "metadata": {},
          "output_type": "execute_result"
        }
      ],
      "source": [
        "data"
      ]
    },
    {
      "cell_type": "code",
      "execution_count": 10,
      "metadata": {
        "colab": {
          "base_uri": "https://localhost:8080/"
        },
        "id": "_qrPPySJKrKb",
        "outputId": "2a819b97-7ad7-4f99-ac90-6de77294d7a9"
      },
      "outputs": [],
      "source": [
        "menu_list = data['menu']"
      ]
    },
    {
      "cell_type": "code",
      "execution_count": 11,
      "metadata": {
        "colab": {
          "base_uri": "https://localhost:8080/"
        },
        "id": "_QC5TsfcKQxf",
        "outputId": "896018b8-74be-45ab-9f0d-c89edb4d0614"
      },
      "outputs": [
        {
          "name": "stdout",
          "output_type": "stream",
          "text": [
            "   feeling  weather  temp  time  num_people  gender  menu\n",
            "0        4        3    10     2           2       0    85\n",
            "1        8        3    10     3           4       1    36\n",
            "2        6        3     5     3           1       1    31\n",
            "3        3        3     3     2           2       1    21\n",
            "4       10        3     5     3           4       1    68\n"
          ]
        }
      ],
      "source": [
        "label_encoder = LabelEncoder()\n",
        "\n",
        "# 각 범주형 컬럼에 Label Encoding 적용\n",
        "categorical_columns = ['weather', 'time', 'gender', 'menu']  # 범주형 컬럼 목록\n",
        "for column in categorical_columns:\n",
        "    data[column] = label_encoder.fit_transform(data[column])\n",
        "data['num_people'] = data['num_people'].str.extract('(\\d+)').astype(int)\n",
        "# 변환된 데이터 확인\n",
        "print(data.head())"
      ]
    },
    {
      "cell_type": "code",
      "execution_count": 12,
      "metadata": {
        "colab": {
          "base_uri": "https://localhost:8080/"
        },
        "id": "zg0ncNyTKz4Y",
        "outputId": "c319d783-16e2-4b60-d612-e16a4267d26c"
      },
      "outputs": [
        {
          "name": "stdout",
          "output_type": "stream",
          "text": [
            "메뉴 이름과 매핑된 정수:\n",
            "{'1명 닭꼬치': 0, '간장치킨': 1, '갈비탕': 2, '강된장보리밥': 3, '고구마치즈돈가스': 4, '고구마피자': 5, '고기': 6, '고등어회': 7, '곱창': 8, '국밥': 9, '김치볶음밥': 10, '김치전': 11, '김치찌개': 12, '낙곱새': 13, '냉면': 14, '냉소바': 15, '닭갈비': 16, '닭강정': 17, '닭꼬치': 18, '닭똥집튀김': 19, '닭발': 20, '닭볶음탕': 21, '닭우동': 22, '대창': 23, '덮밥': 24, '돈가스': 25, '돼지갈비': 26, '돼지고기김치찜': 27, '돼지국밥': 28, '된장찌개': 29, '두부김치': 30, '떡볶이': 31, '라면': 32, '로제떡볶이': 33, '로제마라샹궈': 34, '마라떡볶이': 35, '마라탕': 36, '마제소바': 37, '막국수': 38, '멘보샤': 39, '무뼈닭발': 40, '바게트': 41, '바나나 한개': 42, '밥버거': 43, '백반': 44, '봉구스밥버거': 45, '부대찌개': 46, '분짜': 47, '불고기백반': 48, '불고기피자': 49, '불닭게티': 50, '비빔국수': 51, '사케동': 52, '삼각김밥': 53, '삼겹살': 54, '새우초밥': 55, '샌드위치': 56, '선지해장국': 57, '설렁탕': 58, '소고기덮밥': 59, '소고기무국': 60, '소곱창': 61, '소바': 62, '솥밥': 63, '순대국': 64, '순대국밥': 65, '순두부찌개': 66, '스테이크': 67, '스파게티': 68, '쌀국수': 69, '씨리얼': 70, '야끼소바': 71, '양꼬치': 72, '양념치킨': 73, '양송이수프': 74, '연어덮밥': 75, '연어초밥': 76, '연어회': 77, '열무국수': 78, '요거트아이스크림': 79, '유부초밥': 80, '육회': 81, '자장면': 82, '전': 83, '제육덮밥': 84, '제육볶음': 85, '족발': 86, '직화고기': 87, '짜장면': 88, '짜파게티': 89, '쫄면': 90, '쭈꾸미볶음': 91, '청국장': 92, '초밥': 93, '추어탕': 94, '치즈돈까스': 95, '치킨': 96, '치킨, 고기, 막걸리, 파전, 샐러드': 97, '칼국수': 98, '콩나물국밥육개장': 99, '크림파스타': 100, '타코야끼': 101, '투움바파스타': 102, '파스타': 103, '파전': 104, '페퍼로니피자': 105, '포케': 106, '피자': 107, '하와이안피자': 108, '항정살덮밥': 109, '해장국': 110, '햄버거': 111, '허니콤보': 112, '화채': 113, '회': 114, '회덮밥': 115}\n"
          ]
        }
      ],
      "source": [
        "menu_mapping = dict(zip(label_encoder.classes_, label_encoder.transform(label_encoder.classes_)))\n",
        "print(\"메뉴 이름과 매핑된 정수:\")\n",
        "print(menu_mapping)"
      ]
    },
    {
      "cell_type": "code",
      "execution_count": 13,
      "metadata": {
        "colab": {
          "base_uri": "https://localhost:8080/"
        },
        "id": "U3ZW5mXB2PcZ",
        "outputId": "ba8ab9b4-471b-4334-bb81-b798555f8f67"
      },
      "outputs": [
        {
          "data": {
            "text/plain": [
              "116"
            ]
          },
          "execution_count": 13,
          "metadata": {},
          "output_type": "execute_result"
        }
      ],
      "source": [
        "len(menu_mapping)"
      ]
    },
    {
      "cell_type": "code",
      "execution_count": 14,
      "metadata": {
        "colab": {
          "base_uri": "https://localhost:8080/",
          "height": 424
        },
        "id": "Dh0ADCP9D39S",
        "outputId": "13e122e6-60f8-4c3a-866e-85267ff97553"
      },
      "outputs": [
        {
          "data": {
            "text/html": [
              "<div>\n",
              "<style scoped>\n",
              "    .dataframe tbody tr th:only-of-type {\n",
              "        vertical-align: middle;\n",
              "    }\n",
              "\n",
              "    .dataframe tbody tr th {\n",
              "        vertical-align: top;\n",
              "    }\n",
              "\n",
              "    .dataframe thead th {\n",
              "        text-align: right;\n",
              "    }\n",
              "</style>\n",
              "<table border=\"1\" class=\"dataframe\">\n",
              "  <thead>\n",
              "    <tr style=\"text-align: right;\">\n",
              "      <th></th>\n",
              "      <th>feeling</th>\n",
              "      <th>weather</th>\n",
              "      <th>temp</th>\n",
              "      <th>time</th>\n",
              "      <th>num_people</th>\n",
              "      <th>gender</th>\n",
              "      <th>menu</th>\n",
              "    </tr>\n",
              "  </thead>\n",
              "  <tbody>\n",
              "    <tr>\n",
              "      <th>0</th>\n",
              "      <td>4</td>\n",
              "      <td>3</td>\n",
              "      <td>10</td>\n",
              "      <td>2</td>\n",
              "      <td>2</td>\n",
              "      <td>0</td>\n",
              "      <td>85</td>\n",
              "    </tr>\n",
              "    <tr>\n",
              "      <th>1</th>\n",
              "      <td>8</td>\n",
              "      <td>3</td>\n",
              "      <td>10</td>\n",
              "      <td>3</td>\n",
              "      <td>4</td>\n",
              "      <td>1</td>\n",
              "      <td>36</td>\n",
              "    </tr>\n",
              "    <tr>\n",
              "      <th>2</th>\n",
              "      <td>6</td>\n",
              "      <td>3</td>\n",
              "      <td>5</td>\n",
              "      <td>3</td>\n",
              "      <td>1</td>\n",
              "      <td>1</td>\n",
              "      <td>31</td>\n",
              "    </tr>\n",
              "    <tr>\n",
              "      <th>3</th>\n",
              "      <td>3</td>\n",
              "      <td>3</td>\n",
              "      <td>3</td>\n",
              "      <td>2</td>\n",
              "      <td>2</td>\n",
              "      <td>1</td>\n",
              "      <td>21</td>\n",
              "    </tr>\n",
              "    <tr>\n",
              "      <th>4</th>\n",
              "      <td>10</td>\n",
              "      <td>3</td>\n",
              "      <td>5</td>\n",
              "      <td>3</td>\n",
              "      <td>4</td>\n",
              "      <td>1</td>\n",
              "      <td>68</td>\n",
              "    </tr>\n",
              "    <tr>\n",
              "      <th>...</th>\n",
              "      <td>...</td>\n",
              "      <td>...</td>\n",
              "      <td>...</td>\n",
              "      <td>...</td>\n",
              "      <td>...</td>\n",
              "      <td>...</td>\n",
              "      <td>...</td>\n",
              "    </tr>\n",
              "    <tr>\n",
              "      <th>238</th>\n",
              "      <td>8</td>\n",
              "      <td>3</td>\n",
              "      <td>3</td>\n",
              "      <td>2</td>\n",
              "      <td>3</td>\n",
              "      <td>1</td>\n",
              "      <td>86</td>\n",
              "    </tr>\n",
              "    <tr>\n",
              "      <th>239</th>\n",
              "      <td>6</td>\n",
              "      <td>3</td>\n",
              "      <td>7</td>\n",
              "      <td>3</td>\n",
              "      <td>1</td>\n",
              "      <td>1</td>\n",
              "      <td>96</td>\n",
              "    </tr>\n",
              "    <tr>\n",
              "      <th>240</th>\n",
              "      <td>6</td>\n",
              "      <td>3</td>\n",
              "      <td>5</td>\n",
              "      <td>2</td>\n",
              "      <td>1</td>\n",
              "      <td>1</td>\n",
              "      <td>10</td>\n",
              "    </tr>\n",
              "    <tr>\n",
              "      <th>241</th>\n",
              "      <td>2</td>\n",
              "      <td>3</td>\n",
              "      <td>4</td>\n",
              "      <td>1</td>\n",
              "      <td>5</td>\n",
              "      <td>0</td>\n",
              "      <td>32</td>\n",
              "    </tr>\n",
              "    <tr>\n",
              "      <th>242</th>\n",
              "      <td>1</td>\n",
              "      <td>3</td>\n",
              "      <td>8</td>\n",
              "      <td>0</td>\n",
              "      <td>1</td>\n",
              "      <td>1</td>\n",
              "      <td>53</td>\n",
              "    </tr>\n",
              "  </tbody>\n",
              "</table>\n",
              "<p>243 rows × 7 columns</p>\n",
              "</div>"
            ],
            "text/plain": [
              "     feeling  weather  temp  time  num_people  gender  menu\n",
              "0          4        3    10     2           2       0    85\n",
              "1          8        3    10     3           4       1    36\n",
              "2          6        3     5     3           1       1    31\n",
              "3          3        3     3     2           2       1    21\n",
              "4         10        3     5     3           4       1    68\n",
              "..       ...      ...   ...   ...         ...     ...   ...\n",
              "238        8        3     3     2           3       1    86\n",
              "239        6        3     7     3           1       1    96\n",
              "240        6        3     5     2           1       1    10\n",
              "241        2        3     4     1           5       0    32\n",
              "242        1        3     8     0           1       1    53\n",
              "\n",
              "[243 rows x 7 columns]"
            ]
          },
          "execution_count": 14,
          "metadata": {},
          "output_type": "execute_result"
        }
      ],
      "source": [
        "data"
      ]
    },
    {
      "cell_type": "code",
      "execution_count": 15,
      "metadata": {
        "colab": {
          "base_uri": "https://localhost:8080/"
        },
        "id": "3qys9PRCev4t",
        "outputId": "e757f8ed-99e9-45a1-f701-f24b754644c8"
      },
      "outputs": [],
      "source": [
        "breakfast_data = data[data['time'] == 0]\n",
        "lunch_data = data[data['time'] == 1]\n",
        "dinner_data = data[data['time'] == 2]\n",
        "Midnight_data = data[data['time'] == 3]"
      ]
    },
    {
      "cell_type": "code",
      "execution_count": 16,
      "metadata": {
        "id": "Dwi2tMa4fvLq"
      },
      "outputs": [],
      "source": [
        "d_episodes = []\n",
        "for i in range(max(len(breakfast_data), len(lunch_data), len(dinner_data), len(Midnight_data))):\n",
        "    episode = [\n",
        "        breakfast_data.iloc[i % len(breakfast_data)].tolist(),\n",
        "        lunch_data.iloc[i % len(lunch_data)].tolist(),\n",
        "        dinner_data.iloc[i % len(dinner_data)].tolist(),\n",
        "        Midnight_data.iloc[i % len(Midnight_data)].tolist()\n",
        "    ]\n",
        "    d_episodes.append(episode)"
      ]
    },
    {
      "cell_type": "code",
      "execution_count": 17,
      "metadata": {
        "colab": {
          "base_uri": "https://localhost:8080/"
        },
        "id": "raDUOAPcfvJK",
        "outputId": "4a9dacc7-95e7-4962-8fe3-c37bdb3c9fa9"
      },
      "outputs": [
        {
          "data": {
            "text/plain": [
              "[[7, 3, 5, 0, 4, 0, 89],\n",
              " [6, 3, 6, 1, 1, 0, 101],\n",
              " [4, 3, 10, 2, 2, 0, 85],\n",
              " [8, 3, 10, 3, 4, 1, 36]]"
            ]
          },
          "execution_count": 17,
          "metadata": {},
          "output_type": "execute_result"
        }
      ],
      "source": [
        "d_episodes[0]"
      ]
    },
    {
      "cell_type": "code",
      "execution_count": 18,
      "metadata": {
        "id": "Uz0HDcPIppGx"
      },
      "outputs": [],
      "source": [
        "class DQN(nn.Module):\n",
        "    def __init__(self, state_dim, action_dim):\n",
        "        super(DQN, self).__init__()\n",
        "        self.fc1 = nn.Linear(state_dim, 128)\n",
        "        self.fc2 = nn.Linear(128, 128)\n",
        "        self.fc3 = nn.Linear(128, action_dim)\n",
        "\n",
        "    def forward(self, x):\n",
        "        x = torch.relu(self.fc1(x))\n",
        "        x = torch.relu(self.fc2(x))\n",
        "        return self.fc3(x)"
      ]
    },
    {
      "cell_type": "code",
      "execution_count": 19,
      "metadata": {
        "id": "0lydjOb0pp6Y"
      },
      "outputs": [],
      "source": [
        "class DQNAgent:\n",
        "    def __init__(self, state_dim, action_dim, replay_buffer):\n",
        "        self.state_dim = state_dim\n",
        "        self.action_dim = action_dim\n",
        "        self.replay_buffer = replay_buffer\n",
        "        self.model = DQN(state_dim, action_dim)\n",
        "        self.optimizer = optim.Adam(self.model.parameters(), lr=0.0005)\n",
        "        self.epsilon = 1.0  # 초기 탐색 확률\n",
        "        self.epsilon_decay = 0.995\n",
        "        self.epsilon_min = 0.01\n",
        "\n",
        "    def select_action(self, state):\n",
        "        if random.random() < self.epsilon:\n",
        "            action = random.randrange(len(menu_mapping))  # 무작위 행동 선택\n",
        "        else:\n",
        "            state = torch.FloatTensor(state).unsqueeze(0)\n",
        "            with torch.no_grad():\n",
        "                q_values = self.model(state)\n",
        "            action = q_values.max(1)[1].item()  # 최대 Q 값을 가진 행동 선택\n",
        "        return action\n",
        "\n",
        "    def update_model(self, batch_size):\n",
        "        if len(self.replay_buffer) < batch_size:\n",
        "            return\n",
        "        batch = self.replay_buffer.sample(batch_size)\n",
        "        states, actions, rewards, next_states, dones = zip(*batch)\n",
        "\n",
        "        states = torch.FloatTensor(states)\n",
        "        next_states = torch.FloatTensor(next_states)\n",
        "        actions = torch.LongTensor(actions)\n",
        "        rewards = torch.FloatTensor(rewards)\n",
        "        dones = torch.FloatTensor(dones)\n",
        "\n",
        "        current_q_values = self.model(states).gather(1, actions.unsqueeze(1)).squeeze(1)\n",
        "        max_next_q_values = self.model(next_states).max(1)[0]\n",
        "        expected_q_values = rewards + (1 - dones) * 0.99 * max_next_q_values\n",
        "\n",
        "        loss = nn.MSELoss()(current_q_values, expected_q_values.detach())\n",
        "        self.optimizer.zero_grad()\n",
        "        loss.backward()\n",
        "        self.optimizer.step()\n",
        "\n",
        "        # 탐색 확률 감소\n",
        "        if self.epsilon > self.epsilon_min:\n",
        "            self.epsilon *= self.epsilon_decay"
      ]
    },
    {
      "cell_type": "code",
      "execution_count": 20,
      "metadata": {
        "collapsed": true,
        "id": "tW6B1E3dk4JZ"
      },
      "outputs": [],
      "source": [
        "class ReplayBuffer:\n",
        "    def __init__(self, capacity):\n",
        "        self.buffer = deque(maxlen=capacity)\n",
        "\n",
        "    def push(self, state, action, reward, next_state, done):\n",
        "        self.buffer.append((state, action, reward, next_state, done))\n",
        "\n",
        "    def sample(self, batch_size):\n",
        "        return random.sample(self.buffer, batch_size)\n",
        "\n",
        "    def __len__(self):\n",
        "        return len(self.buffer)"
      ]
    },
    {
      "cell_type": "code",
      "execution_count": 23,
      "metadata": {
        "colab": {
          "base_uri": "https://localhost:8080/"
        },
        "id": "JALp63vPxavZ",
        "outputId": "66bb34d8-9101-494c-a615-16e0517ad8aa"
      },
      "outputs": [
        {
          "name": "stdout",
          "output_type": "stream",
          "text": [
            "Episode 0, Total Reward: -3\n",
            "Episode 10000, Total Reward: -1\n",
            "Episode 20000, Total Reward: -1\n",
            "Episode 30000, Total Reward: 1\n",
            "Episode 40000, Total Reward: 3\n",
            "Episode 50000, Total Reward: 1\n",
            "Episode 60000, Total Reward: 1\n",
            "Episode 70000, Total Reward: 3\n",
            "Episode 80000, Total Reward: 1\n",
            "Episode 90000, Total Reward: 3\n"
          ]
        }
      ],
      "source": [
        "state_dim = 6  # 상태 차원 (예시)\n",
        "action_dim = len(menu_mapping)  # 행동 차원 (예시, 추천할 메뉴 수)\n",
        "replay_buffer = ReplayBuffer(10000)\n",
        "agent = DQNAgent(state_dim, action_dim, replay_buffer)\n",
        "batch_size = 16\n",
        "\n",
        "episodes = 100000\n",
        "reward_arr = []\n",
        "for episode in range(episodes):\n",
        "    day_data = d_episodes[episode%len(d_episodes)]\n",
        "    total_reward = 0\n",
        "\n",
        "    for i in range(len(day_data) - 1):\n",
        "        state = day_data[i][:-1]\n",
        "        next_state = day_data[i + 1][:-1]\n",
        "        target_menu = day_data[i][-1]\n",
        "\n",
        "        action = agent.select_action(state)\n",
        "        reward = 1 if action == target_menu else -1\n",
        "        done = (i == len(day_data) - 2)\n",
        "\n",
        "        agent.replay_buffer.push(state, action, reward, next_state, done)\n",
        "        # state = next_state\n",
        "        total_reward += reward\n",
        "\n",
        "    agent.update_model(batch_size)\n",
        "    reward_arr.append(total_reward)\n",
        "    if episode % 10000 == 0:\n",
        "        print(f\"Episode {episode}, Total Reward: {total_reward}\")\n",
        "        torch.save(agent.model.state_dict(), f\"./top_k_model/top_k_model_{episode}.pth\")\n",
        "    elif episode % 10000 == 0:\n",
        "        print(f\"Episode {episode}, Total Reward: {total_reward}\")"
      ]
    },
    {
      "cell_type": "code",
      "execution_count": 24,
      "metadata": {
        "colab": {
          "base_uri": "https://localhost:8080/",
          "height": 449
        },
        "id": "-DaDOPbxvvuc",
        "outputId": "8bdf4e3e-f8cf-42d2-bf17-973993a8d443"
      },
      "outputs": [
        {
          "data": {
            "text/plain": [
              "[<matplotlib.lines.Line2D at 0x280e04ab7c0>]"
            ]
          },
          "execution_count": 24,
          "metadata": {},
          "output_type": "execute_result"
        },
        {
          "data": {
            "image/png": "[encoded data removed]",
            "text/plain": [
              "<Figure size 640x480 with 1 Axes>"
            ]
          },
          "metadata": {},
          "output_type": "display_data"
        }
      ],
      "source": [
        "plt.plot(reward_arr)"
      ]
    },
    {
      "cell_type": "code",
      "execution_count": 25,
      "metadata": {
        "colab": {
          "base_uri": "https://localhost:8080/"
        },
        "id": "vVMmUtLNocCy",
        "outputId": "bf913460-b64c-4326-9c84-1dd7831644da"
      },
      "outputs": [
        {
          "data": {
            "text/plain": [
              "-2.76"
            ]
          },
          "execution_count": 25,
          "metadata": {},
          "output_type": "execute_result"
        }
      ],
      "source": [
        "np.mean(reward_arr[500:1000])"
      ]
    },
    {
      "cell_type": "code",
      "execution_count": 26,
      "metadata": {
        "colab": {
          "base_uri": "https://localhost:8080/",
          "height": 454
        },
        "id": "v2PNrsYbxgcK",
        "outputId": "6f469d70-475b-4587-9a68-ae78bbad3829"
      },
      "outputs": [
        {
          "data": {
            "text/plain": [
              "[<matplotlib.lines.Line2D at 0x280e6b26520>]"
            ]
          },
          "execution_count": 26,
          "metadata": {},
          "output_type": "execute_result"
        },
        {
          "data": {
            "image/png": "[encoded data removed]",
            "text/plain": [
              "<Figure size 640x480 with 1 Axes>"
            ]
          },
          "metadata": {},
          "output_type": "display_data"
        }
      ],
      "source": [
        "plt.ylim(-3, 3)\n",
        "plt.plot(reward_arr[500:1000])"
      ]
    },
    {
      "cell_type": "code",
      "execution_count": 27,
      "metadata": {
        "colab": {
          "base_uri": "https://localhost:8080/"
        },
        "id": "NPUW4s1bGa5_",
        "outputId": "5597f7f5-82de-4c29-98d4-778d6da566fe"
      },
      "outputs": [
        {
          "data": {
            "text/plain": [
              "0.508"
            ]
          },
          "execution_count": 27,
          "metadata": {},
          "output_type": "execute_result"
        }
      ],
      "source": [
        "np.mean(reward_arr[19500:20000])"
      ]
    },
    {
      "cell_type": "code",
      "execution_count": 28,
      "metadata": {
        "colab": {
          "base_uri": "https://localhost:8080/",
          "height": 454
        },
        "id": "aLzmKXKwDeGA",
        "outputId": "0ff0d005-09da-4e54-f996-3d0d049ee728"
      },
      "outputs": [
        {
          "data": {
            "text/plain": [
              "[<matplotlib.lines.Line2D at 0x280e6b9b820>]"
            ]
          },
          "execution_count": 28,
          "metadata": {},
          "output_type": "execute_result"
        },
        {
          "data": {
            "image/png": "[encoded data removed]",
            "text/plain": [
              "<Figure size 640x480 with 1 Axes>"
            ]
          },
          "metadata": {},
          "output_type": "display_data"
        }
      ],
      "source": [
        "plt.ylim(-3, 3)\n",
        "plt.plot(reward_arr[19500:20000])"
      ]
    },
    {
      "cell_type": "code",
      "execution_count": 29,
      "metadata": {
        "colab": {
          "base_uri": "https://localhost:8080/"
        },
        "id": "2KDSMlV0DhjF",
        "outputId": "d74ff6e6-5c4b-41bc-f65d-7b2b50bb5786"
      },
      "outputs": [
        {
          "data": {
            "text/plain": [
              "1.064"
            ]
          },
          "execution_count": 29,
          "metadata": {},
          "output_type": "execute_result"
        }
      ],
      "source": [
        "np.mean(reward_arr[49500:50000])"
      ]
    },
    {
      "cell_type": "code",
      "execution_count": 30,
      "metadata": {
        "colab": {
          "base_uri": "https://localhost:8080/",
          "height": 454
        },
        "id": "zC61g1k9DlyX",
        "outputId": "b9ce126c-a8b5-44ca-9343-eff4d4c9c857"
      },
      "outputs": [
        {
          "data": {
            "text/plain": [
              "[<matplotlib.lines.Line2D at 0x280e6c10b50>]"
            ]
          },
          "execution_count": 30,
          "metadata": {},
          "output_type": "execute_result"
        },
        {
          "data": {
            "image/png": "[encoded data removed]",
            "text/plain": [
              "<Figure size 640x480 with 1 Axes>"
            ]
          },
          "metadata": {},
          "output_type": "display_data"
        }
      ],
      "source": [
        "plt.ylim(-3, 3)\n",
        "plt.plot(reward_arr[49500:50000])"
      ]
    },
    {
      "cell_type": "code",
      "execution_count": 31,
      "metadata": {
        "colab": {
          "base_uri": "https://localhost:8080/"
        },
        "id": "SuG3SlXTDoIU",
        "outputId": "12fa23e2-34f4-457c-d79e-f37ce942892d"
      },
      "outputs": [
        {
          "data": {
            "text/plain": [
              "1.312"
            ]
          },
          "execution_count": 31,
          "metadata": {},
          "output_type": "execute_result"
        }
      ],
      "source": [
        "np.mean(reward_arr[99500:100000])"
      ]
    },
    {
      "cell_type": "code",
      "execution_count": 32,
      "metadata": {
        "colab": {
          "base_uri": "https://localhost:8080/",
          "height": 454
        },
        "id": "gNyMWHGOEPop",
        "outputId": "86e5fc05-2d09-46da-fbb5-aedc3bc49d46"
      },
      "outputs": [
        {
          "data": {
            "text/plain": [
              "[<matplotlib.lines.Line2D at 0x280e6c26fa0>]"
            ]
          },
          "execution_count": 32,
          "metadata": {},
          "output_type": "execute_result"
        },
        {
          "data": {
            "image/png": "[encoded data removed]",
            "text/plain": [
              "<Figure size 640x480 with 1 Axes>"
            ]
          },
          "metadata": {},
          "output_type": "display_data"
        }
      ],
      "source": [
        "plt.ylim(-3, 3)\n",
        "plt.plot(reward_arr[99500:100000])"
      ]
    },
    {
      "cell_type": "code",
      "execution_count": null,
      "metadata": {
        "id": "JdymCLD-F8HH"
      },
      "outputs": [],
      "source": []
    }
  ],
  "metadata": {
    "colab": {
      "provenance": []
    },
    "kernelspec": {
      "display_name": "Python 3",
      "name": "python3"
    },
    "language_info": {
      "codemirror_mode": {
        "name": "ipython",
        "version": 3
      },
      "file_extension": ".py",
      "mimetype": "text/x-python",
      "name": "python",
      "nbconvert_exporter": "python",
      "pygments_lexer": "ipython3",
      "version": "3.8.10"
    }
  },
  "nbformat": 4,
  "nbformat_minor": 0
}
