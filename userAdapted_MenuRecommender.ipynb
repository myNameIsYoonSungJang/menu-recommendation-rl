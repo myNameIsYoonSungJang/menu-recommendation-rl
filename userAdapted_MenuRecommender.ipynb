{
  "cells": [
    {
      "cell_type": "code",
      "execution_count": null,
      "metadata": {
        "colab": {
          "base_uri": "https://localhost:8080/"
        },
        "id": "rcdXfDkW-hEz",
        "outputId": "a319400b-7bfc-40fb-8b57-1f3cde36b94b"
      },
      "outputs": [
        {
          "name": "stdout",
          "output_type": "stream",
          "text": [
            "Drive already mounted at /content/drive; to attempt to forcibly remount, call drive.mount(\"/content/drive\", force_remount=True).\n"
          ]
        }
      ],
      "source": [
        "from google.colab import drive\n",
        "drive.mount('/content/drive')"
      ]
    },
    {
      "cell_type": "code",
      "execution_count": 1,
      "metadata": {
        "id": "feCVLT1D0xrM"
      },
      "outputs": [],
      "source": [
        "import numpy as np\n",
        "import pandas as pd\n",
        "import torch\n",
        "import torch.nn as nn\n",
        "import torch.optim as optim\n",
        "from collections import deque\n",
        "import matplotlib.pyplot as plt\n",
        "import random\n",
        "import gym\n",
        "from gym import spaces\n",
        "\n",
        "from sklearn.preprocessing import LabelEncoder"
      ]
    },
    {
      "cell_type": "code",
      "execution_count": 2,
      "metadata": {
        "id": "59QG6fPW0_Um"
      },
      "outputs": [],
      "source": [
        "class ReplayBuffer:\n",
        "    def __init__(self, capacity):\n",
        "        self.buffer = deque(maxlen=capacity)\n",
        "\n",
        "    def push(self, state, action, reward, next_state, done):\n",
        "        self.buffer.append((state, action, reward, next_state, done))\n",
        "\n",
        "    def sample(self, batch_size):\n",
        "        my_buffer = []\n",
        "        for i in range(batch_size):\n",
        "            my_buffer.append(self.buffer[-batch_size+i])\n",
        "        return my_buffer\n",
        "\n",
        "    def __len__(self):\n",
        "        return len(self.buffer)"
      ]
    },
    {
      "cell_type": "code",
      "execution_count": 3,
      "metadata": {
        "colab": {
          "base_uri": "https://localhost:8080/"
        },
        "id": "RZq13-xi6mwA",
        "outputId": "bd6b4e03-af6b-4e34-8f20-985338a72395"
      },
      "outputs": [
        {
          "data": {
            "text/plain": [
              "{0: '1명 닭꼬치',\n",
              " 1: '간장치킨',\n",
              " 2: '갈비탕',\n",
              " 3: '강된장보리밥',\n",
              " 4: '고구마치즈돈가스',\n",
              " 5: '고구마피자',\n",
              " 6: '고기',\n",
              " 7: '고등어회',\n",
              " 8: '곱창',\n",
              " 9: '국밥',\n",
              " 10: '김치볶음밥',\n",
              " 11: '김치전',\n",
              " 12: '김치찌개',\n",
              " 13: '낙곱새',\n",
              " 14: '냉면',\n",
              " 15: '냉소바',\n",
              " 16: '닭갈비',\n",
              " 17: '닭강정',\n",
              " 18: '닭꼬치',\n",
              " 19: '닭똥집튀김',\n",
              " 20: '닭발',\n",
              " 21: '닭볶음탕',\n",
              " 22: '닭우동',\n",
              " 23: '대창',\n",
              " 24: '덮밥',\n",
              " 25: '돈가스',\n",
              " 26: '돼지갈비',\n",
              " 27: '돼지고기김치찜',\n",
              " 28: '돼지국밥',\n",
              " 29: '된장찌개',\n",
              " 30: '두부김치',\n",
              " 31: '떡볶이',\n",
              " 32: '라면',\n",
              " 33: '로제떡볶이',\n",
              " 34: '로제마라샹궈',\n",
              " 35: '마라떡볶이',\n",
              " 36: '마라탕',\n",
              " 37: '마제소바',\n",
              " 38: '막국수',\n",
              " 39: '멘보샤',\n",
              " 40: '무뼈닭발',\n",
              " 41: '바게트',\n",
              " 42: '바나나 한개',\n",
              " 43: '밥버거',\n",
              " 44: '백반',\n",
              " 45: '봉구스밥버거',\n",
              " 46: '부대찌개',\n",
              " 47: '분짜',\n",
              " 48: '불고기백반',\n",
              " 49: '불고기피자',\n",
              " 50: '불닭게티',\n",
              " 51: '비빔국수',\n",
              " 52: '사케동',\n",
              " 53: '삼각김밥',\n",
              " 54: '삼겹살',\n",
              " 55: '새우초밥',\n",
              " 56: '샌드위치',\n",
              " 57: '선지해장국',\n",
              " 58: '설렁탕',\n",
              " 59: '소고기덮밥',\n",
              " 60: '소고기무국',\n",
              " 61: '소곱창',\n",
              " 62: '소바',\n",
              " 63: '솥밥',\n",
              " 64: '순대국',\n",
              " 65: '순대국밥',\n",
              " 66: '순두부찌개',\n",
              " 67: '스테이크',\n",
              " 68: '스파게티',\n",
              " 69: '쌀국수',\n",
              " 70: '씨리얼',\n",
              " 71: '야끼소바',\n",
              " 72: '양꼬치',\n",
              " 73: '양념치킨',\n",
              " 74: '양송이수프',\n",
              " 75: '연어덮밥',\n",
              " 76: '연어초밥',\n",
              " 77: '연어회',\n",
              " 78: '열무국수',\n",
              " 79: '요거트아이스크림',\n",
              " 80: '유부초밥',\n",
              " 81: '육회',\n",
              " 82: '자장면',\n",
              " 83: '전',\n",
              " 84: '제육덮밥',\n",
              " 85: '제육볶음',\n",
              " 86: '족발',\n",
              " 87: '직화고기',\n",
              " 88: '짜장면',\n",
              " 89: '짜파게티',\n",
              " 90: '쫄면',\n",
              " 91: '쭈꾸미볶음',\n",
              " 92: '청국장',\n",
              " 93: '초밥',\n",
              " 94: '추어탕',\n",
              " 95: '치즈돈까스',\n",
              " 96: '치킨',\n",
              " 97: '치킨, 고기, 막걸리, 파전, 샐러드',\n",
              " 98: '칼국수',\n",
              " 99: '콩나물국밥육개장',\n",
              " 100: '크림파스타',\n",
              " 101: '타코야끼',\n",
              " 102: '투움바파스타',\n",
              " 103: '파스타',\n",
              " 104: '파전',\n",
              " 105: '페퍼로니피자',\n",
              " 106: '포케',\n",
              " 107: '피자',\n",
              " 108: '하와이안피자',\n",
              " 109: '항정살덮밥',\n",
              " 110: '해장국',\n",
              " 111: '햄버거',\n",
              " 112: '허니콤보',\n",
              " 113: '화채',\n",
              " 114: '회',\n",
              " 115: '회덮밥'}"
            ]
          },
          "execution_count": 3,
          "metadata": {},
          "output_type": "execute_result"
        }
      ],
      "source": [
        "import csv\n",
        "\n",
        "menu_dict = {}\n",
        "first = True\n",
        "with open(\"./menu.csv\", 'r') as file:\n",
        "    reader = csv.reader(file)\n",
        "    for row in reader:\n",
        "        if first:\n",
        "          first=False\n",
        "          continue\n",
        "        idx, menu = row\n",
        "        menu_dict[int(idx)] = menu\n",
        "menu_dict"
      ]
    },
    {
      "cell_type": "code",
      "execution_count": 4,
      "metadata": {
        "colab": {
          "base_uri": "https://localhost:8080/"
        },
        "id": "P_VZDVaeF3Tm",
        "outputId": "0f6bf24f-59b5-452f-f2aa-b1a951e805bb"
      },
      "outputs": [
        {
          "data": {
            "text/plain": [
              "DQN(\n",
              "  (fc1): Linear(in_features=6, out_features=128, bias=True)\n",
              "  (relu): ReLU()\n",
              "  (fc2): Linear(in_features=128, out_features=128, bias=True)\n",
              "  (fc3): Linear(in_features=128, out_features=116, bias=True)\n",
              ")"
            ]
          },
          "execution_count": 4,
          "metadata": {},
          "output_type": "execute_result"
        }
      ],
      "source": [
        "# DQN 모델 정의 (이전에 정의한 것과 동일해야 함)\n",
        "class DQN(nn.Module):\n",
        "    def __init__(self, state_dim, action_dim):\n",
        "        super(DQN, self).__init__()\n",
        "        self.fc1 = nn.Linear(state_dim, 128)\n",
        "        self.relu = nn.ReLU()\n",
        "        self.fc2 = nn.Linear(128, 128)\n",
        "        self.fc3 = nn.Linear(128, action_dim)\n",
        "\n",
        "    def forward(self, x):\n",
        "        x = self.relu(self.fc1(x))\n",
        "        x = self.relu(self.fc2(x))\n",
        "        return self.fc3(x)\n",
        "\n",
        "# 에이전트 정의 (이전에 정의한 것과 동일해야 함)\n",
        "class DQNAgent:\n",
        "    def __init__(self, state_dim, action_dim, replay_buffer):\n",
        "        self.state_dim = state_dim\n",
        "        self.action_dim = action_dim\n",
        "        self.replay_buffer = replay_buffer\n",
        "        self.model = DQN(state_dim, action_dim)\n",
        "        self.optimizer = optim.Adam(self.model.parameters(), lr=0.0005)\n",
        "        self.epsilon = 0.1  # 사용자 입력에서는 낮은 탐색 확률 사용\n",
        "        self.epsilon_min = 0.01\n",
        "\n",
        "    def select_action(self, state):\n",
        "        state = torch.FloatTensor(state).unsqueeze(0)\n",
        "        with torch.no_grad():\n",
        "            q_values = self.model(state)\n",
        "        action = q_values.max(1)[1].item()\n",
        "        # top_k = 3\n",
        "        # _, top_k_indices = q_values.topk(top_k, dim=1, largest=True, sorted=True)\n",
        "\n",
        "        # # top_k_indices는 (1, 3) 형태의 텐서이므로, 이를 리스트로 변환\n",
        "        # top_k_actions = top_k_indices.squeeze().tolist()\n",
        "\n",
        "        return action #q_values #top_k_actions\n",
        "\n",
        "    def update_model(self, batch_size):\n",
        "        if len(self.replay_buffer) < batch_size:\n",
        "            return\n",
        "        batch = self.replay_buffer.sample(batch_size)\n",
        "        states, actions, rewards, next_states, dones = zip(*batch)\n",
        "\n",
        "        states = torch.FloatTensor(states)\n",
        "        next_states = torch.FloatTensor(next_states)\n",
        "        actions = torch.LongTensor(actions)\n",
        "        rewards = torch.FloatTensor(rewards)\n",
        "        dones = torch.FloatTensor(dones)\n",
        "        \n",
        "        print(self.model(states), actions.view(-1, 1))\n",
        "        current_q_values = self.model(states).gather(1, actions.view(-1, 1)).squeeze(1)\n",
        "        max_next_q_values = self.model(next_states).max(1)[0]\n",
        "        expected_q_values = rewards + (1 - dones) * 0.99 * max_next_q_values\n",
        "\n",
        "        loss = nn.MSELoss()(current_q_values, expected_q_values.detach())\n",
        "        self.optimizer.zero_grad()\n",
        "        loss.backward()\n",
        "        self.optimizer.step()\n",
        "\n",
        "# 모델 및 에이전트 초기화\n",
        "state_dim = 6  # 상태 차원 (예시)\n",
        "action_dim = len(menu_dict)  # 행동 차원 (예시, 메뉴 수)\n",
        "replay_buffer = ReplayBuffer(10000)\n",
        "agent = DQNAgent(state_dim, action_dim, replay_buffer)\n",
        "\n",
        "# 체크포인트에서 모델 불러오기\n",
        "checkpoint_path = './model/model_90000.pth'  # 예시 체크포인트 경로\n",
        "checkpoint = torch.load(checkpoint_path)\n",
        "agent.model.load_state_dict(checkpoint)\n",
        "agent.model.eval()"
      ]
    },
    {
      "cell_type": "code",
      "execution_count": 9,
      "metadata": {
        "colab": {
          "base_uri": "https://localhost:8080/"
        },
        "id": "20nab-B-F3Lx",
        "outputId": "fd4d740d-35a3-46f5-f05a-54f71412ad31"
      },
      "outputs": [],
      "source": [
        "def get_user_input():\n",
        "    feeling = float(input(\"기분을 숫자로 입력하세요 (예: 1~10, 1: 최악, 10: 최고): \"))\n",
        "    weather = float(input(\"날씨를 숫자로 입력하세요 (예: 0: 맑음, 1: 구름, 2: 흐림, 3: 비, 4: 눈): \"))\n",
        "    temp = float(input(\"체감 온도를 숫자로 입력하세요 (예: 1~10, 1: 추움, 10: 더움): \"))\n",
        "    time = float(input(\"체감 식사 시간대를 입력하세요 (0: 아침, 1: 점심, 2: 저녁, 3: 야식): \"))\n",
        "    num_people = float(input(\"인원수를 숫자로 입력하세요 (예: 1, 2, 3, 4 or 5명 이상: 5): \"))\n",
        "    gender = float(input(\"성별을 입력하세요 (0: 남성, 1: 여성): \"))\n",
        "    state = [feeling, weather, temp, time, num_people, gender]\n",
        "    return state\n",
        "\n",
        "def get_user_feedback(action):\n",
        "    recommended_menus = menu_dict[action]\n",
        "    feedback = int(input(f\"추천된 메뉴: {recommended_menus}. 만족하셨나요? (1: 예, 0: 아니오): \"))\n",
        "    return feedback"
      ]
    },
    {
      "cell_type": "code",
      "execution_count": 46,
      "metadata": {
        "colab": {
          "base_uri": "https://localhost:8080/"
        },
        "id": "AbcOwT7hF3JH",
        "outputId": "c1c371ce-c9d8-4f19-c237-24a0ce4328cc"
      },
      "outputs": [
        {
          "ename": "ValueError",
          "evalue": "could not convert string to float: ''",
          "output_type": "error",
          "traceback": [
            "\u001b[1;31m---------------------------------------------------------------------------\u001b[0m",
            "\u001b[1;31mValueError\u001b[0m                                Traceback (most recent call last)",
            "Cell \u001b[1;32mIn[46], line 2\u001b[0m\n\u001b[0;32m      1\u001b[0m \u001b[38;5;66;03m# 사용자 입력 받기\u001b[39;00m\n\u001b[1;32m----> 2\u001b[0m state \u001b[38;5;241m=\u001b[39m \u001b[43mget_user_input\u001b[49m\u001b[43m(\u001b[49m\u001b[43m)\u001b[49m\n\u001b[0;32m      4\u001b[0m \u001b[38;5;66;03m# 모델을 통해 메뉴 추천 받기\u001b[39;00m\n\u001b[0;32m      5\u001b[0m action \u001b[38;5;241m=\u001b[39m agent\u001b[38;5;241m.\u001b[39mselect_action(state)\n",
            "Cell \u001b[1;32mIn[9], line 2\u001b[0m, in \u001b[0;36mget_user_input\u001b[1;34m()\u001b[0m\n\u001b[0;32m      1\u001b[0m \u001b[38;5;28;01mdef\u001b[39;00m \u001b[38;5;21mget_user_input\u001b[39m():\n\u001b[1;32m----> 2\u001b[0m     feeling \u001b[38;5;241m=\u001b[39m \u001b[38;5;28;43mfloat\u001b[39;49m\u001b[43m(\u001b[49m\u001b[38;5;28;43minput\u001b[39;49m\u001b[43m(\u001b[49m\u001b[38;5;124;43m\"\u001b[39;49m\u001b[38;5;124;43m기분을 숫자로 입력하세요 (예: 1~10, 1: 최악, 10: 최고): \u001b[39;49m\u001b[38;5;124;43m\"\u001b[39;49m\u001b[43m)\u001b[49m\u001b[43m)\u001b[49m\n\u001b[0;32m      3\u001b[0m     weather \u001b[38;5;241m=\u001b[39m \u001b[38;5;28mfloat\u001b[39m(\u001b[38;5;28minput\u001b[39m(\u001b[38;5;124m\"\u001b[39m\u001b[38;5;124m날씨를 숫자로 입력하세요 (예: 0: 맑음, 1: 구름, 2: 흐림, 3: 비, 4: 눈): \u001b[39m\u001b[38;5;124m\"\u001b[39m))\n\u001b[0;32m      4\u001b[0m     temp \u001b[38;5;241m=\u001b[39m \u001b[38;5;28mfloat\u001b[39m(\u001b[38;5;28minput\u001b[39m(\u001b[38;5;124m\"\u001b[39m\u001b[38;5;124m체감 온도를 숫자로 입력하세요 (예: 1~10, 1: 추움, 10: 더움): \u001b[39m\u001b[38;5;124m\"\u001b[39m))\n",
            "\u001b[1;31mValueError\u001b[0m: could not convert string to float: ''"
          ]
        }
      ],
      "source": [
        "# 사용자 입력 받기\n",
        "state = get_user_input()\n",
        "\n",
        "# 모델을 통해 메뉴 추천 받기\n",
        "action = agent.select_action(state)\n",
        "\n",
        "# 사용자 피드백 받기\n",
        "reward = get_user_feedback(action)\n",
        "done = True  # 단일 스텝이므로 에피소드 종료\n",
        "\n",
        "# 리플레이 버퍼에 경험 추가\n",
        "next_state = state  # 단일 스텝이므로 상태가 변하지 않음\n",
        "agent.replay_buffer.push(state, action, reward, next_state, done)"
      ]
    },
    {
      "cell_type": "code",
      "execution_count": 47,
      "metadata": {
        "colab": {
          "base_uri": "https://localhost:8080/",
          "height": 315
        },
        "id": "OCvnaqh5Fx_3",
        "outputId": "33b0735c-d366-4730-abd6-fa709e2f159a"
      },
      "outputs": [
        {
          "name": "stdout",
          "output_type": "stream",
          "text": [
            "58\n",
            "tensor([[-1.0483, -0.6977, -1.1457, -2.8623, -1.1725, -0.8284, -3.2542, -1.5048,\n",
            "         -0.8813, -1.7878, -1.0156, -1.0621, -1.0196, -0.5850, -3.8578, -0.7260,\n",
            "         -1.1485, -0.7626, -0.7813, -1.1021,  0.2316, -0.7286, -0.8914, -1.2474,\n",
            "         -4.2757, -1.2856, -0.7153, -0.6166, -1.2366,  0.3245, -0.6106, -0.8729,\n",
            "         -1.5315, -0.9760, -0.8006, -0.7005, -6.8486, -1.4681, -1.0068, -0.8387,\n",
            "         -1.7251, -0.6253, -0.8369, -0.9200, -0.6716, -0.9000, -1.1575, -1.0404,\n",
            "         -1.0039, -0.8434, -0.3321, -0.8684, -0.7704, -0.5130, -1.3149, -3.1739,\n",
            "         -1.1124, -0.7156,  0.3601, -1.1145, -0.6231, -0.9737, -0.8301, -0.8180,\n",
            "         -0.8332, -1.2536, -0.8447, -0.9471, -0.5816, -0.9852, -1.7915, -0.9489,\n",
            "         -0.8285,  0.1692, -1.0763, -0.7378, -1.1005, -3.5927, -2.6733,  0.1177,\n",
            "         -1.6377, -1.0329, -1.2822, -1.4865, -0.5618, -1.0235, -2.4817, -0.7085,\n",
            "         -0.9686, -0.6939, -1.0658, -0.4942, -0.9078, -0.7557, -0.7412, -0.8948,\n",
            "          0.3411, -0.5615, -1.7253, -0.7886, -1.2446, -1.8352, -0.8944, -2.7067,\n",
            "         -0.8946, -0.7773, -3.3885, -0.3138, -0.8703, -1.1266, -0.7321, -1.8614,\n",
            "         -1.0740, -0.5884, -2.0601, -0.5020]], grad_fn=<AddmmBackward0>) tensor([[58]])\n"
          ]
        }
      ],
      "source": [
        "# 사용자 피드백을 바탕으로 모델 업데이트   아직 구현 안됨\n",
        "batch_size = 1  # 단일 사용자 피드백이므로 배치 크기를 1로 설정\n",
        "print(action)\n",
        "agent.update_model(batch_size)"
      ]
    },
    {
      "cell_type": "code",
      "execution_count": null,
      "metadata": {
        "id": "h42oC8N3F1mZ"
      },
      "outputs": [],
      "source": []
    },
    {
      "cell_type": "code",
      "execution_count": null,
      "metadata": {
        "id": "WqTbT9nzF1j3"
      },
      "outputs": [],
      "source": []
    },
    {
      "cell_type": "code",
      "execution_count": null,
      "metadata": {
        "id": "ySY-nWVfF1g5"
      },
      "outputs": [],
      "source": []
    },
    {
      "cell_type": "code",
      "execution_count": null,
      "metadata": {
        "id": "JvqrH6X_F1dw"
      },
      "outputs": [],
      "source": []
    },
    {
      "cell_type": "code",
      "execution_count": null,
      "metadata": {
        "id": "ZjmiODxWF1a4"
      },
      "outputs": [],
      "source": []
    },
    {
      "cell_type": "code",
      "execution_count": null,
      "metadata": {
        "id": "kU-t9sv1F1YL"
      },
      "outputs": [],
      "source": []
    },
    {
      "cell_type": "code",
      "execution_count": null,
      "metadata": {
        "id": "AQitzHe1F1Vr"
      },
      "outputs": [],
      "source": []
    },
    {
      "cell_type": "code",
      "execution_count": null,
      "metadata": {
        "id": "8r5dL0m0F1S5"
      },
      "outputs": [],
      "source": []
    },
    {
      "cell_type": "code",
      "execution_count": null,
      "metadata": {
        "id": "vtfEkKRtF1QM"
      },
      "outputs": [],
      "source": []
    },
    {
      "cell_type": "code",
      "execution_count": null,
      "metadata": {
        "id": "K2WnpFJ9F1NL"
      },
      "outputs": [],
      "source": []
    }
  ],
  "metadata": {
    "colab": {
      "gpuType": "T4",
      "provenance": []
    },
    "kernelspec": {
      "display_name": "Python 3",
      "name": "python3"
    },
    "language_info": {
      "codemirror_mode": {
        "name": "ipython",
        "version": 3
      },
      "file_extension": ".py",
      "mimetype": "text/x-python",
      "name": "python",
      "nbconvert_exporter": "python",
      "pygments_lexer": "ipython3",
      "version": "3.8.10"
    }
  },
  "nbformat": 4,
  "nbformat_minor": 0
}
