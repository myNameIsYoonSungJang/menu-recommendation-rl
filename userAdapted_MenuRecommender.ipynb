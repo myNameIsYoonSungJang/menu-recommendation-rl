{
  "nbformat": 4,
  "nbformat_minor": 0,
  "metadata": {
    "colab": {
      "provenance": [],
      "gpuType": "T4"
    },
    "kernelspec": {
      "name": "python3",
      "display_name": "Python 3"
    },
    "language_info": {
      "name": "python"
    }
  },
  "cells": [
    {
      "cell_type": "code",
      "source": [
        "from google.colab import drive\n",
        "drive.mount('/content/drive')"
      ],
      "metadata": {
        "colab": {
          "base_uri": "https://localhost:8080/"
        },
        "id": "rcdXfDkW-hEz",
        "outputId": "a319400b-7bfc-40fb-8b57-1f3cde36b94b"
      },
      "execution_count": null,
      "outputs": [
        {
          "output_type": "stream",
          "name": "stdout",
          "text": [
            "Drive already mounted at /content/drive; to attempt to forcibly remount, call drive.mount(\"/content/drive\", force_remount=True).\n"
          ]
        }
      ]
    },
    {
      "cell_type": "code",
      "source": [
        "import numpy as np\n",
        "import pandas as pd\n",
        "import torch\n",
        "import torch.nn as nn\n",
        "import torch.optim as optim\n",
        "from collections import deque\n",
        "import matplotlib.pyplot as plt\n",
        "import random\n",
        "import gym\n",
        "from gym import spaces\n",
        "\n",
        "from sklearn.preprocessing import LabelEncoder"
      ],
      "metadata": {
        "id": "feCVLT1D0xrM"
      },
      "execution_count": null,
      "outputs": []
    },
    {
      "cell_type": "code",
      "source": [
        "class ReplayBuffer:\n",
        "    def __init__(self, capacity):\n",
        "        self.buffer = deque(maxlen=capacity)\n",
        "\n",
        "    def push(self, state, action, reward, next_state, done):\n",
        "        self.buffer.append((state, action, reward, next_state, done))\n",
        "\n",
        "    def sample(self, batch_size):\n",
        "        return random.sample(self.buffer, batch_size)\n",
        "\n",
        "    def __len__(self):\n",
        "        return len(self.buffer)"
      ],
      "metadata": {
        "id": "59QG6fPW0_Um"
      },
      "execution_count": null,
      "outputs": []
    },
    {
      "cell_type": "code",
      "source": [
        "import csv\n",
        "\n",
        "menu_dict = {}\n",
        "first = True\n",
        "with open(\"/content/drive/MyDrive/강화학습/기말프로젝트/menu.csv\", 'r') as file:\n",
        "    reader = csv.reader(file)\n",
        "    for row in reader:\n",
        "        if first:\n",
        "          first=False\n",
        "          continue\n",
        "        idx, menu = row\n",
        "        menu_dict[int(idx)] = menu\n",
        "menu_dict"
      ],
      "metadata": {
        "colab": {
          "base_uri": "https://localhost:8080/"
        },
        "id": "RZq13-xi6mwA",
        "outputId": "bd6b4e03-af6b-4e34-8f20-985338a72395"
      },
      "execution_count": null,
      "outputs": [
        {
          "output_type": "execute_result",
          "data": {
            "text/plain": [
              "{0: '1명 닭꼬치',\n",
              " 1: '간장치킨',\n",
              " 2: '갈비탕',\n",
              " 3: '강된장보리밥',\n",
              " 4: '고구마치즈돈가스',\n",
              " 5: '고구마피자',\n",
              " 6: '고기',\n",
              " 7: '고등어회',\n",
              " 8: '곱창',\n",
              " 9: '국밥',\n",
              " 10: '김치볶음밥',\n",
              " 11: '김치전',\n",
              " 12: '김치찌개',\n",
              " 13: '낙곱새',\n",
              " 14: '냉면',\n",
              " 15: '냉소바',\n",
              " 16: '닭갈비',\n",
              " 17: '닭강정',\n",
              " 18: '닭꼬치',\n",
              " 19: '닭똥집튀김',\n",
              " 20: '닭발',\n",
              " 21: '닭볶음탕',\n",
              " 22: '닭우동',\n",
              " 23: '대창',\n",
              " 24: '덮밥',\n",
              " 25: '돈가스',\n",
              " 26: '돼지갈비',\n",
              " 27: '돼지고기김치찜',\n",
              " 28: '돼지국밥',\n",
              " 29: '된장찌개',\n",
              " 30: '두부김치',\n",
              " 31: '떡볶이',\n",
              " 32: '라면',\n",
              " 33: '로제떡볶이',\n",
              " 34: '로제마라샹궈',\n",
              " 35: '마라떡볶이',\n",
              " 36: '마라탕',\n",
              " 37: '마제소바',\n",
              " 38: '막국수',\n",
              " 39: '멘보샤',\n",
              " 40: '무뼈닭발',\n",
              " 41: '바게트',\n",
              " 42: '바나나 한개',\n",
              " 43: '밥버거',\n",
              " 44: '백반',\n",
              " 45: '봉구스밥버거',\n",
              " 46: '부대찌개',\n",
              " 47: '분짜',\n",
              " 48: '불고기백반',\n",
              " 49: '불고기피자',\n",
              " 50: '불닭게티',\n",
              " 51: '비빔국수',\n",
              " 52: '사케동',\n",
              " 53: '삼각김밥',\n",
              " 54: '삼겹살',\n",
              " 55: '새우초밥',\n",
              " 56: '샌드위치',\n",
              " 57: '선지해장국',\n",
              " 58: '설렁탕',\n",
              " 59: '소고기덮밥',\n",
              " 60: '소고기무국',\n",
              " 61: '소곱창',\n",
              " 62: '소바',\n",
              " 63: '솥밥',\n",
              " 64: '순대국',\n",
              " 65: '순대국밥',\n",
              " 66: '순두부찌개',\n",
              " 67: '스테이크',\n",
              " 68: '스파게티',\n",
              " 69: '쌀국수',\n",
              " 70: '씨리얼',\n",
              " 71: '야끼소바',\n",
              " 72: '양꼬치',\n",
              " 73: '양념치킨',\n",
              " 74: '양송이수프',\n",
              " 75: '연어덮밥',\n",
              " 76: '연어초밥',\n",
              " 77: '연어회',\n",
              " 78: '열무국수',\n",
              " 79: '요거트아이스크림',\n",
              " 80: '유부초밥',\n",
              " 81: '육회',\n",
              " 82: '자장면',\n",
              " 83: '전',\n",
              " 84: '제육덮밥',\n",
              " 85: '제육볶음',\n",
              " 86: '족발',\n",
              " 87: '직화고기',\n",
              " 88: '짜장면',\n",
              " 89: '짜파게티',\n",
              " 90: '쫄면',\n",
              " 91: '쭈꾸미볶음',\n",
              " 92: '청국장',\n",
              " 93: '초밥',\n",
              " 94: '추어탕',\n",
              " 95: '치즈돈까스',\n",
              " 96: '치킨',\n",
              " 97: '치킨, 고기, 막걸리, 파전, 샐러드',\n",
              " 98: '칼국수',\n",
              " 99: '콩나물국밥육개장',\n",
              " 100: '크림파스타',\n",
              " 101: '타코야끼',\n",
              " 102: '투움바파스타',\n",
              " 103: '파스타',\n",
              " 104: '파전',\n",
              " 105: '페퍼로니피자',\n",
              " 106: '포케',\n",
              " 107: '피자',\n",
              " 108: '하와이안피자',\n",
              " 109: '항정살덮밥',\n",
              " 110: '해장국',\n",
              " 111: '햄버거',\n",
              " 112: '허니콤보',\n",
              " 113: '화채',\n",
              " 114: '회',\n",
              " 115: '회덮밥'}"
            ]
          },
          "metadata": {},
          "execution_count": 20
        }
      ]
    },
    {
      "cell_type": "code",
      "source": [
        "# DQN 모델 정의 (이전에 정의한 것과 동일해야 함)\n",
        "class DQN(nn.Module):\n",
        "    def __init__(self, state_dim, action_dim):\n",
        "        super(DQN, self).__init__()\n",
        "        self.fc1 = nn.Linear(state_dim, 128)\n",
        "        self.relu = nn.ReLU()\n",
        "        self.fc2 = nn.Linear(128, 128)\n",
        "        self.fc3 = nn.Linear(128, action_dim)\n",
        "\n",
        "    def forward(self, x):\n",
        "        x = self.relu(self.fc1(x))\n",
        "        x = self.relu(self.fc2(x))\n",
        "        return self.fc3(x)\n",
        "\n",
        "# 에이전트 정의 (이전에 정의한 것과 동일해야 함)\n",
        "class DQNAgent:\n",
        "    def __init__(self, state_dim, action_dim, replay_buffer):\n",
        "        self.state_dim = state_dim\n",
        "        self.action_dim = action_dim\n",
        "        self.replay_buffer = replay_buffer\n",
        "        self.model = DQN(state_dim, action_dim)\n",
        "        self.optimizer = optim.Adam(self.model.parameters(), lr=0.0005)\n",
        "        self.epsilon = 0.1  # 사용자 입력에서는 낮은 탐색 확률 사용\n",
        "        self.epsilon_min = 0.01\n",
        "\n",
        "    def select_action(self, state):\n",
        "        state = torch.FloatTensor(state).unsqueeze(0)\n",
        "        with torch.no_grad():\n",
        "            q_values = self.model(state)\n",
        "        # action = q_values.max(1)[1].item()\n",
        "        top_k = 3\n",
        "        _, top_k_indices = q_values.topk(top_k, dim=1, largest=True, sorted=True)\n",
        "\n",
        "        # top_k_indices는 (1, 3) 형태의 텐서이므로, 이를 리스트로 변환\n",
        "        top_k_actions = top_k_indices.squeeze().tolist()\n",
        "\n",
        "        print(top_k_actions)\n",
        "        return top_k_actions\n",
        "\n",
        "    def update_model(self, batch_size):\n",
        "        if len(self.replay_buffer) < batch_size:\n",
        "            return\n",
        "        batch = self.replay_buffer.sample(batch_size)\n",
        "        states, actions, rewards, next_states, dones = zip(*batch)\n",
        "\n",
        "        states = torch.FloatTensor(states)\n",
        "        next_states = torch.FloatTensor(next_states)\n",
        "        actions = torch.LongTensor(actions)\n",
        "        rewards = torch.FloatTensor(rewards)\n",
        "        dones = torch.FloatTensor(dones)\n",
        "\n",
        "        current_q_values = self.model(states).gather(1, actions.unsqueeze(1)).squeeze(1)\n",
        "        max_next_q_values = self.model(next_states).max(1)[0]\n",
        "        expected_q_values = rewards + (1 - dones) * 0.99 * max_next_q_values\n",
        "\n",
        "        loss = nn.MSELoss()(current_q_values, expected_q_values.detach())\n",
        "        self.optimizer.zero_grad()\n",
        "        loss.backward()\n",
        "        self.optimizer.step()\n",
        "\n",
        "# 모델 및 에이전트 초기화\n",
        "state_dim = 6  # 상태 차원 (예시)\n",
        "action_dim = len(menu_dict)  # 행동 차원 (예시, 메뉴 수)\n",
        "replay_buffer = ReplayBuffer(10000)\n",
        "agent = DQNAgent(state_dim, action_dim, replay_buffer)\n",
        "\n",
        "# 체크포인트에서 모델 불러오기\n",
        "checkpoint_path = '/content/drive/MyDrive/강화학습/기말프로젝트/model_90000.pth'  # 예시 체크포인트 경로\n",
        "checkpoint = torch.load(checkpoint_path)\n",
        "agent.model.load_state_dict(checkpoint)\n",
        "agent.model.eval()"
      ],
      "metadata": {
        "id": "P_VZDVaeF3Tm",
        "colab": {
          "base_uri": "https://localhost:8080/"
        },
        "outputId": "0f6bf24f-59b5-452f-f2aa-b1a951e805bb"
      },
      "execution_count": null,
      "outputs": [
        {
          "output_type": "execute_result",
          "data": {
            "text/plain": [
              "DQN(\n",
              "  (fc1): Linear(in_features=6, out_features=128, bias=True)\n",
              "  (relu): ReLU()\n",
              "  (fc2): Linear(in_features=128, out_features=128, bias=True)\n",
              "  (fc3): Linear(in_features=128, out_features=116, bias=True)\n",
              ")"
            ]
          },
          "metadata": {},
          "execution_count": 31
        }
      ]
    },
    {
      "cell_type": "code",
      "source": [
        "def get_user_input():\n",
        "    feeling = float(input(\"기분을 숫자로 입력하세요 (예: 1~10, 1: 최악, 10: 최고): \"))\n",
        "    weather = float(input(\"날씨를 숫자로 입력하세요 (예: 0: 맑음, 1: 구름, 2: 흐림, 3: 비, 4: 눈): \"))\n",
        "    temp = float(input(\"체감 온도를 숫자로 입력하세요 (예: 1~10, 1: 추움, 10: 더움): \"))\n",
        "    time = float(input(\"체감 식사 시간대를 입력하세요 (0: 아침, 1: 점심, 2: 저녁, 3: 야식): \"))\n",
        "    num_people = float(input(\"인원수를 숫자로 입력하세요 (예: 1, 2, 3, 4 or 5명 이상: 5): \"))\n",
        "    gender = float(input(\"성별을 입력하세요 (0: 남성, 1: 여성): \"))\n",
        "    state = [feeling, weather, temp, time, num_people, gender]\n",
        "    return state\n",
        "\n",
        "def get_user_feedback(action):\n",
        "    recommended_menus = [menu_dict[index] for index in action]\n",
        "    feedback = int(input(f\"추천된 메뉴: {recommended_menus}. 만족하셨나요? (1: 예, 0: 아니오): \"))\n",
        "    return feedback"
      ],
      "metadata": {
        "id": "20nab-B-F3Lx",
        "colab": {
          "base_uri": "https://localhost:8080/"
        },
        "outputId": "fd4d740d-35a3-46f5-f05a-54f71412ad31"
      },
      "execution_count": null,
      "outputs": [
        {
          "output_type": "stream",
          "name": "stderr",
          "text": [
            "/usr/local/lib/python3.10/dist-packages/ipykernel/ipkernel.py:283: DeprecationWarning: `should_run_async` will not call `transform_cell` automatically in the future. Please pass the result to `transformed_cell` argument and any exception that happen during thetransform in `preprocessing_exc_tuple` in IPython 7.17 and above.\n",
            "  and should_run_async(code)\n"
          ]
        }
      ]
    },
    {
      "cell_type": "code",
      "source": [
        "# 사용자 입력 받기\n",
        "state = get_user_input()\n",
        "\n",
        "# 모델을 통해 메뉴 추천 받기\n",
        "action = agent.select_action(state)\n",
        "\n",
        "# 사용자 피드백 받기\n",
        "reward = get_user_feedback(action)\n",
        "done = True  # 단일 스텝이므로 에피소드 종료\n",
        "\n",
        "# 리플레이 버퍼에 경험 추가\n",
        "next_state = state  # 단일 스텝이므로 상태가 변하지 않음\n",
        "agent.replay_buffer.push(state, action, reward, next_state, done)"
      ],
      "metadata": {
        "id": "AbcOwT7hF3JH",
        "colab": {
          "base_uri": "https://localhost:8080/"
        },
        "outputId": "c1c371ce-c9d8-4f19-c237-24a0ce4328cc"
      },
      "execution_count": null,
      "outputs": [
        {
          "name": "stdout",
          "output_type": "stream",
          "text": [
            "기분을 숫자로 입력하세요 (예: 1~10, 1: 최악, 10: 최고): 7\n",
            "날씨를 숫자로 입력하세요 (예: 0: 맑음, 1: 구름, 2: 흐림, 3: 비, 4: 눈): 3\n",
            "체감 온도를 숫자로 입력하세요 (예: 1~10, 1: 추움, 10: 더움): 7\n",
            "체감 식사 시간대를 입력하세요 (0: 아침, 1: 점심, 2: 저녁, 3: 야식): 2\n",
            "인원수를 숫자로 입력하세요 (예: 1, 2, 3, 4 or 5명 이상: 5): 2\n",
            "성별을 입력하세요 (0: 남성, 1: 여성): 0\n",
            "[43, 114, 23]\n",
            "추천된 메뉴: ['밥버거', '회', '대창']. 만족하셨나요? (1: 예, 0: 아니오): 1\n"
          ]
        }
      ]
    },
    {
      "cell_type": "code",
      "source": [
        "2# 사용자 피드백을 바탕으로 모델 업데이트\n",
        "batch_size = 1  # 단일 사용자 피드백이므로 배치 크기를 1로 설정\n",
        "agent.update_model(batch_size)"
      ],
      "metadata": {
        "id": "OCvnaqh5Fx_3",
        "colab": {
          "base_uri": "https://localhost:8080/",
          "height": 315
        },
        "outputId": "33b0735c-d366-4730-abd6-fa709e2f159a"
      },
      "execution_count": null,
      "outputs": [
        {
          "output_type": "error",
          "ename": "RuntimeError",
          "evalue": "Index tensor must have the same number of dimensions as input tensor",
          "traceback": [
            "\u001b[0;31m---------------------------------------------------------------------------\u001b[0m",
            "\u001b[0;31mRuntimeError\u001b[0m                              Traceback (most recent call last)",
            "\u001b[0;32m<ipython-input-47-7586b429a1ff>\u001b[0m in \u001b[0;36m<cell line: 3>\u001b[0;34m()\u001b[0m\n\u001b[1;32m      1\u001b[0m \u001b[0;36m2\u001b[0m\u001b[0;31m# 사용자 피드백을 바탕으로 모델 업데이트\u001b[0m\u001b[0;34m\u001b[0m\u001b[0;34m\u001b[0m\u001b[0m\n\u001b[1;32m      2\u001b[0m \u001b[0mbatch_size\u001b[0m \u001b[0;34m=\u001b[0m \u001b[0;36m1\u001b[0m  \u001b[0;31m# 단일 사용자 피드백이므로 배치 크기를 1로 설정\u001b[0m\u001b[0;34m\u001b[0m\u001b[0;34m\u001b[0m\u001b[0m\n\u001b[0;32m----> 3\u001b[0;31m \u001b[0magent\u001b[0m\u001b[0;34m.\u001b[0m\u001b[0mupdate_model\u001b[0m\u001b[0;34m(\u001b[0m\u001b[0mbatch_size\u001b[0m\u001b[0;34m)\u001b[0m\u001b[0;34m\u001b[0m\u001b[0;34m\u001b[0m\u001b[0m\n\u001b[0m",
            "\u001b[0;32m<ipython-input-31-b7e9ebf9f0ee>\u001b[0m in \u001b[0;36mupdate_model\u001b[0;34m(self, batch_size)\u001b[0m\n\u001b[1;32m     50\u001b[0m         \u001b[0mdones\u001b[0m \u001b[0;34m=\u001b[0m \u001b[0mtorch\u001b[0m\u001b[0;34m.\u001b[0m\u001b[0mFloatTensor\u001b[0m\u001b[0;34m(\u001b[0m\u001b[0mdones\u001b[0m\u001b[0;34m)\u001b[0m\u001b[0;34m\u001b[0m\u001b[0;34m\u001b[0m\u001b[0m\n\u001b[1;32m     51\u001b[0m \u001b[0;34m\u001b[0m\u001b[0m\n\u001b[0;32m---> 52\u001b[0;31m         \u001b[0mcurrent_q_values\u001b[0m \u001b[0;34m=\u001b[0m \u001b[0mself\u001b[0m\u001b[0;34m.\u001b[0m\u001b[0mmodel\u001b[0m\u001b[0;34m(\u001b[0m\u001b[0mstates\u001b[0m\u001b[0;34m)\u001b[0m\u001b[0;34m.\u001b[0m\u001b[0mgather\u001b[0m\u001b[0;34m(\u001b[0m\u001b[0;36m1\u001b[0m\u001b[0;34m,\u001b[0m \u001b[0mactions\u001b[0m\u001b[0;34m.\u001b[0m\u001b[0munsqueeze\u001b[0m\u001b[0;34m(\u001b[0m\u001b[0;36m1\u001b[0m\u001b[0;34m)\u001b[0m\u001b[0;34m)\u001b[0m\u001b[0;34m.\u001b[0m\u001b[0msqueeze\u001b[0m\u001b[0;34m(\u001b[0m\u001b[0;36m1\u001b[0m\u001b[0;34m)\u001b[0m\u001b[0;34m\u001b[0m\u001b[0;34m\u001b[0m\u001b[0m\n\u001b[0m\u001b[1;32m     53\u001b[0m         \u001b[0mmax_next_q_values\u001b[0m \u001b[0;34m=\u001b[0m \u001b[0mself\u001b[0m\u001b[0;34m.\u001b[0m\u001b[0mmodel\u001b[0m\u001b[0;34m(\u001b[0m\u001b[0mnext_states\u001b[0m\u001b[0;34m)\u001b[0m\u001b[0;34m.\u001b[0m\u001b[0mmax\u001b[0m\u001b[0;34m(\u001b[0m\u001b[0;36m1\u001b[0m\u001b[0;34m)\u001b[0m\u001b[0;34m[\u001b[0m\u001b[0;36m0\u001b[0m\u001b[0;34m]\u001b[0m\u001b[0;34m\u001b[0m\u001b[0;34m\u001b[0m\u001b[0m\n\u001b[1;32m     54\u001b[0m         \u001b[0mexpected_q_values\u001b[0m \u001b[0;34m=\u001b[0m \u001b[0mrewards\u001b[0m \u001b[0;34m+\u001b[0m \u001b[0;34m(\u001b[0m\u001b[0;36m1\u001b[0m \u001b[0;34m-\u001b[0m \u001b[0mdones\u001b[0m\u001b[0;34m)\u001b[0m \u001b[0;34m*\u001b[0m \u001b[0;36m0.99\u001b[0m \u001b[0;34m*\u001b[0m \u001b[0mmax_next_q_values\u001b[0m\u001b[0;34m\u001b[0m\u001b[0;34m\u001b[0m\u001b[0m\n",
            "\u001b[0;31mRuntimeError\u001b[0m: Index tensor must have the same number of dimensions as input tensor"
          ]
        }
      ]
    },
    {
      "cell_type": "code",
      "source": [],
      "metadata": {
        "id": "h42oC8N3F1mZ"
      },
      "execution_count": null,
      "outputs": []
    },
    {
      "cell_type": "code",
      "source": [],
      "metadata": {
        "id": "WqTbT9nzF1j3"
      },
      "execution_count": null,
      "outputs": []
    },
    {
      "cell_type": "code",
      "source": [],
      "metadata": {
        "id": "ySY-nWVfF1g5"
      },
      "execution_count": null,
      "outputs": []
    },
    {
      "cell_type": "code",
      "source": [],
      "metadata": {
        "id": "JvqrH6X_F1dw"
      },
      "execution_count": null,
      "outputs": []
    },
    {
      "cell_type": "code",
      "source": [],
      "metadata": {
        "id": "ZjmiODxWF1a4"
      },
      "execution_count": null,
      "outputs": []
    },
    {
      "cell_type": "code",
      "source": [],
      "metadata": {
        "id": "kU-t9sv1F1YL"
      },
      "execution_count": null,
      "outputs": []
    },
    {
      "cell_type": "code",
      "source": [],
      "metadata": {
        "id": "AQitzHe1F1Vr"
      },
      "execution_count": null,
      "outputs": []
    },
    {
      "cell_type": "code",
      "source": [],
      "metadata": {
        "id": "8r5dL0m0F1S5"
      },
      "execution_count": null,
      "outputs": []
    },
    {
      "cell_type": "code",
      "source": [],
      "metadata": {
        "id": "vtfEkKRtF1QM"
      },
      "execution_count": null,
      "outputs": []
    },
    {
      "cell_type": "code",
      "source": [],
      "metadata": {
        "id": "K2WnpFJ9F1NL"
      },
      "execution_count": null,
      "outputs": []
    }
  ]
}